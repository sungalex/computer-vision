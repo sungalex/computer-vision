{
 "cells": [
  {
   "cell_type": "markdown",
   "metadata": {},
   "source": [
    "### 2->3->2->1 네크워크에서 중간층의 출력 확인하기"
   ]
  },
  {
   "cell_type": "markdown",
   "metadata": {},
   "source": [
    "#### 기본 네트워크(모델)"
   ]
  },
  {
   "cell_type": "code",
   "execution_count": 1,
   "metadata": {},
   "outputs": [
    {
     "name": "stderr",
     "output_type": "stream",
     "text": [
      "Using TensorFlow backend.\n"
     ]
    },
    {
     "name": "stdout",
     "output_type": "stream",
     "text": [
      "x_train:\n",
      " [[0 1]\n",
      " [2 3]\n",
      " [4 5]]\n",
      "y_train:\n",
      " [[1]\n",
      " [5]\n",
      " [9]]\n",
      "x_test:\n",
      " [[6 7]\n",
      " [8 9]]\n",
      "y_test:\n",
      " [[13]\n",
      " [17]]\n",
      "_________________________________________________________________\n",
      "Layer (type)                 Output Shape              Param #   \n",
      "=================================================================\n",
      "x (InputLayer)               (None, 2)                 0         \n",
      "_________________________________________________________________\n",
      "hidden1 (Dense)              (None, 3)                 9         \n",
      "_________________________________________________________________\n",
      "hidden2 (Dense)              (None, 2)                 8         \n",
      "_________________________________________________________________\n",
      "y (Dense)                    (None, 1)                 3         \n",
      "=================================================================\n",
      "Total params: 20\n",
      "Trainable params: 20\n",
      "Non-trainable params: 0\n",
      "_________________________________________________________________\n",
      "y_predict\n",
      "[[13.]\n",
      " [17.]]\n",
      "y_test\n",
      "[[13]\n",
      " [17]]\n"
     ]
    }
   ],
   "source": [
    "import keras\n",
    "import numpy as np\n",
    "\n",
    "from keras.layers import Dense, Input\n",
    "from keras.models import Model\n",
    "\n",
    "x_train = np.array([[0,1],[2,3],[4,5]])\n",
    "# y = x0 + x1\n",
    "# y_train = np.sum(x_train, axis=1)\n",
    "y_train = np.array([[x.sum()] for x in x_train])   # 2차원 array 형태\n",
    "print('x_train:\\n', x_train)\n",
    "print('y_train:\\n', y_train)\n",
    "\n",
    "x_test = np.array([[6,7],[8,9]])\n",
    "# y_test = np.sum(x_test, axis=1)\n",
    "y_test = np.array([[x.sum()] for x in x_test])   # 2차원 array 형태\n",
    "print('x_test:\\n', x_test)\n",
    "print('y_test:\\n', y_test)\n",
    "\n",
    "x = Input(shape=(2,), name='x')\n",
    "\n",
    "h_layer1 = Dense(3, name='hidden1')(x)\n",
    "h_layer2 = Dense(2, name='hidden2')(h_layer1)\n",
    "y = Dense(1, name='y')(h_layer2)\n",
    "\n",
    "model = Model(inputs=x, outputs=y)\n",
    "model.summary()\n",
    "\n",
    "model.compile('SGD', 'mse')\n",
    "history = model.fit(x_train, y_train, batch_size=3, epochs=1000, verbose=0)\n",
    "\n",
    "y_predict = model.predict(x_test)\n",
    "print('y_predict'); print(y_predict)\n",
    "print('y_test'); print(y_test)"
   ]
  },
  {
   "cell_type": "markdown",
   "metadata": {},
   "source": [
    "#### 중간층(hidden 1 layer) 확인하기"
   ]
  },
  {
   "cell_type": "code",
   "execution_count": 2,
   "metadata": {},
   "outputs": [
    {
     "name": "stdout",
     "output_type": "stream",
     "text": [
      "_________________________________________________________________\n",
      "Layer (type)                 Output Shape              Param #   \n",
      "=================================================================\n",
      "x (InputLayer)               (None, 2)                 0         \n",
      "_________________________________________________________________\n",
      "hidden1 (Dense)              (None, 3)                 9         \n",
      "=================================================================\n",
      "Total params: 9\n",
      "Trainable params: 9\n",
      "Non-trainable params: 0\n",
      "_________________________________________________________________\n",
      "h1\n",
      "[[ 0.26832256  0.8867724   9.467402  ]\n",
      " [ 0.47792348  1.1920966  12.482029  ]]\n",
      "y\n",
      "[[13.]\n",
      " [17.]]\n"
     ]
    },
    {
     "data": {
      "text/plain": [
       "(None, None)"
      ]
     },
     "execution_count": 2,
     "metadata": {},
     "output_type": "execute_result"
    }
   ],
   "source": [
    "# outputs을 중간층의 layer로 지정하기\n",
    "model_h = Model(inputs=x, outputs=h_layer1)\n",
    "model_h.summary()\n",
    "\n",
    "print('h1'), print(model_h.predict(x_test))\n",
    "print('y'), print(model.predict(x_test))"
   ]
  },
  {
   "cell_type": "code",
   "execution_count": 3,
   "metadata": {},
   "outputs": [
    {
     "name": "stdout",
     "output_type": "stream",
     "text": [
      "h1\n",
      "[[ 0.26832256  0.8867724   9.467402  ]\n",
      " [ 0.47792348  1.1920966  12.482029  ]]\n",
      "y\n",
      "[[13.]\n",
      " [17.]]\n"
     ]
    },
    {
     "data": {
      "text/plain": [
       "(None, None)"
      ]
     },
     "execution_count": 3,
     "metadata": {},
     "output_type": "execute_result"
    }
   ],
   "source": [
    "# 모델에 정의한 layer 이름\n",
    "layer_h = model.get_layer('hidden1')\n",
    "model_h = Model(inputs=model.input, outputs=layer_h.output)\n",
    "\n",
    "print('h1'), print(model_h.predict(x_test))\n",
    "print('y'), print(model.predict(x_test))"
   ]
  },
  {
   "cell_type": "code",
   "execution_count": 4,
   "metadata": {},
   "outputs": [
    {
     "name": "stdout",
     "output_type": "stream",
     "text": [
      "h1\n",
      "[[ 0.26832256  0.8867724   9.467402  ]\n",
      " [ 0.47792348  1.1920966  12.482029  ]]\n",
      "y\n",
      "[[13.]\n",
      " [17.]]\n"
     ]
    },
    {
     "data": {
      "text/plain": [
       "(None, None)"
      ]
     },
     "execution_count": 4,
     "metadata": {},
     "output_type": "execute_result"
    }
   ],
   "source": [
    "# 모델의 index 사용\n",
    "layer_h = model.get_layer(index=1)\n",
    "model_h = Model(inputs=model.input, outputs=layer_h.output)\n",
    "\n",
    "print('h1'), print(model_h.predict(x_test))\n",
    "print('y'), print(model.predict(x_test))"
   ]
  },
  {
   "cell_type": "markdown",
   "metadata": {},
   "source": [
    "#### 중간층(hidden 2 layer) 확인하기"
   ]
  },
  {
   "cell_type": "code",
   "execution_count": 5,
   "metadata": {},
   "outputs": [
    {
     "name": "stdout",
     "output_type": "stream",
     "text": [
      "_________________________________________________________________\n",
      "Layer (type)                 Output Shape              Param #   \n",
      "=================================================================\n",
      "x (InputLayer)               (None, 2)                 0         \n",
      "_________________________________________________________________\n",
      "hidden1 (Dense)              (None, 3)                 9         \n",
      "_________________________________________________________________\n",
      "hidden2 (Dense)              (None, 2)                 8         \n",
      "=================================================================\n",
      "Total params: 17\n",
      "Trainable params: 17\n",
      "Non-trainable params: 0\n",
      "_________________________________________________________________\n",
      "h2\n",
      "[[ 6.954959 10.443761]\n",
      " [ 9.093442 13.808617]]\n",
      "y\n",
      "[[13.]\n",
      " [17.]]\n"
     ]
    },
    {
     "data": {
      "text/plain": [
       "(None, None)"
      ]
     },
     "execution_count": 5,
     "metadata": {},
     "output_type": "execute_result"
    }
   ],
   "source": [
    "# outputs을 중간층의 layer로 지정하기\n",
    "model_h = Model(inputs=x, outputs=h_layer2)\n",
    "model_h.summary()\n",
    "\n",
    "print('h2'), print(model_h.predict(x_test))\n",
    "print('y'), print(model.predict(x_test))"
   ]
  },
  {
   "cell_type": "code",
   "execution_count": 6,
   "metadata": {},
   "outputs": [
    {
     "name": "stdout",
     "output_type": "stream",
     "text": [
      "h2\n",
      "[[ 6.954959 10.443761]\n",
      " [ 9.093442 13.808617]]\n",
      "y\n",
      "[[13.]\n",
      " [17.]]\n"
     ]
    },
    {
     "data": {
      "text/plain": [
       "(None, None)"
      ]
     },
     "execution_count": 6,
     "metadata": {},
     "output_type": "execute_result"
    }
   ],
   "source": [
    "# 모델에 정의한 layer 이름\n",
    "layer_h = model.get_layer('hidden2')\n",
    "model_h = Model(inputs=model.input, outputs=layer_h.output)\n",
    "\n",
    "print('h2'), print(model_h.predict(x_test))\n",
    "print('y'), print(model.predict(x_test))"
   ]
  },
  {
   "cell_type": "code",
   "execution_count": 7,
   "metadata": {},
   "outputs": [
    {
     "name": "stdout",
     "output_type": "stream",
     "text": [
      "h2\n",
      "[[ 6.954959 10.443761]\n",
      " [ 9.093442 13.808617]]\n",
      "y\n",
      "[[13.]\n",
      " [17.]]\n"
     ]
    },
    {
     "data": {
      "text/plain": [
       "(None, None)"
      ]
     },
     "execution_count": 7,
     "metadata": {},
     "output_type": "execute_result"
    }
   ],
   "source": [
    "# 모델의 index 사용\n",
    "layer_h = model.get_layer(index=2)\n",
    "model_h = Model(inputs=model.input, outputs=layer_h.output)\n",
    "\n",
    "print('h2'), print(model_h.predict(x_test))\n",
    "print('y'), print(model.predict(x_test))"
   ]
  },
  {
   "cell_type": "code",
   "execution_count": null,
   "metadata": {},
   "outputs": [],
   "source": []
  }
 ],
 "metadata": {
  "kernelspec": {
   "display_name": "Python 3",
   "language": "python",
   "name": "python3"
  },
  "language_info": {
   "codemirror_mode": {
    "name": "ipython",
    "version": 3
   },
   "file_extension": ".py",
   "mimetype": "text/x-python",
   "name": "python",
   "nbconvert_exporter": "python",
   "pygments_lexer": "ipython3",
   "version": "3.7.3"
  }
 },
 "nbformat": 4,
 "nbformat_minor": 2
}
