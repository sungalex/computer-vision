{
 "cells": [
  {
   "cell_type": "code",
   "execution_count": 1,
   "metadata": {},
   "outputs": [
    {
     "name": "stderr",
     "output_type": "stream",
     "text": [
      "Using TensorFlow backend.\n"
     ]
    },
    {
     "name": "stdout",
     "output_type": "stream",
     "text": [
      "x_train:\n",
      " [[0 1]\n",
      " [2 3]\n",
      " [4 5]]\n",
      "y_train:\n",
      " [[1]\n",
      " [5]\n",
      " [9]]\n",
      "x_test:\n",
      " [[6 7]\n",
      " [8 9]]\n",
      "y_test:\n",
      " [[13]\n",
      " [17]]\n",
      "_________________________________________________________________\n",
      "Layer (type)                 Output Shape              Param #   \n",
      "=================================================================\n",
      "x (InputLayer)               (None, 2)                 0         \n",
      "_________________________________________________________________\n",
      "dense1 (Dense)               (None, 3)                 9         \n",
      "_________________________________________________________________\n",
      "dense2 (Dense)               (None, 2)                 8         \n",
      "_________________________________________________________________\n",
      "dense3 (Dense)               (None, 1)                 3         \n",
      "=================================================================\n",
      "Total params: 20\n",
      "Trainable params: 20\n",
      "Non-trainable params: 0\n",
      "_________________________________________________________________\n"
     ]
    }
   ],
   "source": [
    "import keras\n",
    "import numpy as np\n",
    "\n",
    "from keras.layers import Dense, Input\n",
    "from keras.models import Model\n",
    "\n",
    "x_train = np.array([[0,1],[2,3],[4,5]])\n",
    "# y = x0 + x1\n",
    "# y_train = np.sum(x_train, axis=1)\n",
    "y_train = np.array([[x.sum()] for x in x_train])   # 2차원 array 형태\n",
    "print('x_train:\\n', x_train)\n",
    "print('y_train:\\n', y_train)\n",
    "\n",
    "x_test = np.array([[6,7],[8,9]])\n",
    "# y_test = np.sum(x_test, axis=1)\n",
    "y_test = np.array([[x.sum()] for x in x_test])   # 2차원 array 형태\n",
    "print('x_test:\\n', x_test)\n",
    "print('y_test:\\n', y_test)\n",
    "\n",
    "d1 = Dense(3, name='dense1')   # d1 layer\n",
    "d2 = Dense(2, name='dense2')   # d2 layer\n",
    "d3 = Dense(1, name='dense3')   # d3 layer\n",
    "\n",
    "x = Input(shape=(2,), name='x')    # input Tensor 'x'\n",
    "d1_out = d1(x)   # d1 layer가 Tensor x를 입력으로 받아서, d1_out Tensor 출력\n",
    "d2_out = d2(d1_out)   # Tensor d1_out를 입력으로 받아서, d2_out Tensor 출력\n",
    "d3_out = d3(d2_out)   # Tensor d2_out를 입력으로 받아서, d3_out Tensor 출력\n",
    "\n",
    "model = Model(x, d3_out)   # Model(inputs=x, outputs=d3_out)\n",
    "model.summary()"
   ]
  },
  {
   "cell_type": "markdown",
   "metadata": {},
   "source": [
    "#### layer별 weights & bias 확인하기"
   ]
  },
  {
   "cell_type": "code",
   "execution_count": 2,
   "metadata": {},
   "outputs": [
    {
     "name": "stdout",
     "output_type": "stream",
     "text": [
      "d1_weights type: <class 'list'>\n",
      "d1_weights:\n",
      "[array([[ 0.49704695,  0.6164062 ,  0.19970107],\n",
      "       [-0.20409715, -0.5430141 , -0.53902966]], dtype=float32), array([0., 0., 0.], dtype=float32)]\n",
      "d2_weights:\n",
      "[array([[ 0.03792953,  0.80052924],\n",
      "       [ 0.9678402 ,  0.52043927],\n",
      "       [-0.01310003,  0.67138326]], dtype=float32), array([0., 0.], dtype=float32)]\n",
      "d3_weights:\n",
      "[array([[0.44936264],\n",
      "       [1.1054956 ]], dtype=float32), array([0.], dtype=float32)]\n"
     ]
    }
   ],
   "source": [
    "d1_weights = d1.get_weights()\n",
    "d2_weights = d2.get_weights()\n",
    "d3_weights = d3.get_weights()\n",
    "\n",
    "print('d1_weights type:', type(d1_weights))\n",
    "print('d1_weights:'); print(d1_weights)  # weight와 bias 2개의 numpy array\n",
    "print('d2_weights:'); print(d2_weights)\n",
    "print('d3_weights:'); print(d3_weights)"
   ]
  },
  {
   "cell_type": "code",
   "execution_count": 5,
   "metadata": {},
   "outputs": [
    {
     "name": "stdout",
     "output_type": "stream",
     "text": [
      "d1_weights type: <class 'list'>\n",
      "d1_weights:\n",
      "[[ 0.49704695  0.6164062   0.19970107]\n",
      " [-0.20409715 -0.5430141  -0.53902966]]\n",
      "[0. 0. 0.]\n"
     ]
    }
   ],
   "source": [
    "d1 = model.get_layer('dense1')\n",
    "d1_weights = d1.get_weights()\n",
    "\n",
    "print('d1_weights type:', type(d1_weights)) # list\n",
    "print('d1_weights:')\n",
    "print(d1_weights[0]) # d1 layer의 input weights\n",
    "print(d1_weights[1]) # d1 layer의 input bias"
   ]
  },
  {
   "cell_type": "markdown",
   "metadata": {},
   "source": [
    "#### weights를 원하는 값으로 변경하기"
   ]
  },
  {
   "cell_type": "code",
   "execution_count": 11,
   "metadata": {},
   "outputs": [
    {
     "data": {
      "text/plain": [
       "[array([[1., 3., 5.],\n",
       "        [2., 4., 6.]], dtype=float32), array([1., 2., 3.], dtype=float32)]"
      ]
     },
     "execution_count": 11,
     "metadata": {},
     "output_type": "execute_result"
    }
   ],
   "source": [
    "# weight 값 변경하기(원하는 값으로...) : pre-trained model의 weight 활용 가능\n",
    "weights = [np.array([[1,3,5], [2,4,6]], dtype=np.float32), \n",
    "           np.array([1,2,3], dtype=np.float32)]  # 2개의 numpy array(weghts와 bias)\n",
    "weights"
   ]
  },
  {
   "cell_type": "code",
   "execution_count": 12,
   "metadata": {},
   "outputs": [
    {
     "name": "stdout",
     "output_type": "stream",
     "text": [
      "d1_weights:\n",
      "[[1. 3. 5.]\n",
      " [2. 4. 6.]]\n",
      "[1. 2. 3.]\n"
     ]
    }
   ],
   "source": [
    "d1 = model.get_layer('dense1')\n",
    "d1.set_weights(weights)   # weights 값 변경\n",
    "\n",
    "# 변경된 weights 값 확인\n",
    "d1 = model.get_layer('dense1')\n",
    "d1_weights = d1.get_weights()\n",
    "print('d1_weights:')\n",
    "print(d1_weights[0]) # d1 layer의 input weights\n",
    "print(d1_weights[1]) # d1 layer의 input bias"
   ]
  },
  {
   "cell_type": "code",
   "execution_count": 15,
   "metadata": {},
   "outputs": [
    {
     "name": "stdout",
     "output_type": "stream",
     "text": [
      "d2_weights:\n",
      "[[1. 4.]\n",
      " [2. 5.]\n",
      " [3. 6.]]\n",
      "[1. 2.]\n"
     ]
    }
   ],
   "source": [
    "# dense2 layer weight 값 변경하기\n",
    "weights2 = [np.array([[1,4], [2,5], [3,6]], dtype=np.float32), \n",
    "            np.array([1,2], dtype=np.float32)]  # 2개의 numpy array(weghts와 bias)\n",
    "d2 = model.get_layer('dense2')\n",
    "d2.set_weights(weights2)   # weights 값 변경\n",
    "\n",
    "# 변경된 weights 값 확인\n",
    "d2 = model.get_layer('dense2')\n",
    "d2_weights = d2.get_weights()\n",
    "print('d2_weights:')\n",
    "print(d2_weights[0]) # d1 layer의 input weights\n",
    "print(d2_weights[1]) # d1 layer의 input bias"
   ]
  },
  {
   "cell_type": "code",
   "execution_count": 16,
   "metadata": {},
   "outputs": [
    {
     "name": "stdout",
     "output_type": "stream",
     "text": [
      "d3_weights:\n",
      "[[1.]\n",
      " [2.]]\n",
      "[1.]\n"
     ]
    }
   ],
   "source": [
    "# dense3 layer weight 값 변경하기\n",
    "weights3 = [np.array([[1], [2]], dtype=np.float32), \n",
    "            np.array([1], dtype=np.float32)]  # 2개의 numpy array(weghts와 bias)\n",
    "d3 = model.get_layer('dense3')\n",
    "d3.set_weights(weights3)   # weights 값 변경\n",
    "\n",
    "# 변경된 weights 값 확인\n",
    "d3 = model.get_layer('dense3')\n",
    "d3_weights = d3.get_weights()\n",
    "print('d3_weights:')\n",
    "print(d3_weights[0]) # d1 layer의 input weights\n",
    "print(d3_weights[1]) # d1 layer의 input bias"
   ]
  },
  {
   "cell_type": "code",
   "execution_count": null,
   "metadata": {},
   "outputs": [],
   "source": []
  }
 ],
 "metadata": {
  "kernelspec": {
   "display_name": "Python 3",
   "language": "python",
   "name": "python3"
  },
  "language_info": {
   "codemirror_mode": {
    "name": "ipython",
    "version": 3
   },
   "file_extension": ".py",
   "mimetype": "text/x-python",
   "name": "python",
   "nbconvert_exporter": "python",
   "pygments_lexer": "ipython3",
   "version": "3.7.3"
  }
 },
 "nbformat": 4,
 "nbformat_minor": 2
}
