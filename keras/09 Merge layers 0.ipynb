{
 "cells": [
  {
   "cell_type": "markdown",
   "metadata": {},
   "source": [
    "여러개의 입력을 하나로 합치는 layer 들에 대해 공부해보겠습니다."
   ]
  },
  {
   "cell_type": "code",
   "execution_count": 1,
   "metadata": {},
   "outputs": [
    {
     "name": "stderr",
     "output_type": "stream",
     "text": [
      "Using TensorFlow backend.\n"
     ]
    }
   ],
   "source": [
    "from keras import layers, models\n",
    "import numpy as np\n",
    "\n",
    "x_test_A = np.array([[0, 1], [4, 5]])\n",
    "x_test_B = np.array([[2, 3], [6, 7]])\n",
    "\n",
    "x_A = layers.Input(shape=(2,), name='x_A')\n",
    "x_B = layers.Input(shape=(2,), name='x_B')"
   ]
  },
  {
   "cell_type": "markdown",
   "metadata": {},
   "source": [
    "입력을 그대로 이어 붙이는 Concatenate"
   ]
  },
  {
   "cell_type": "code",
   "execution_count": 2,
   "metadata": {
    "scrolled": true
   },
   "outputs": [
    {
     "name": "stdout",
     "output_type": "stream",
     "text": [
      "__________________________________________________________________________________________________\n",
      "Layer (type)                    Output Shape         Param #     Connected to                     \n",
      "==================================================================================================\n",
      "x_A (InputLayer)                (None, 2)            0                                            \n",
      "__________________________________________________________________________________________________\n",
      "x_B (InputLayer)                (None, 2)            0                                            \n",
      "__________________________________________________________________________________________________\n",
      "concat (Concatenate)            (None, 4)            0           x_A[0][0]                        \n",
      "                                                                 x_B[0][0]                        \n",
      "==================================================================================================\n",
      "Total params: 0\n",
      "Trainable params: 0\n",
      "Non-trainable params: 0\n",
      "__________________________________________________________________________________________________\n",
      "x_test_A\n",
      "[[0 1]\n",
      " [4 5]]\n",
      "x_test_B\n",
      "[[2 3]\n",
      " [6 7]]\n",
      "y_pred\n",
      "[[0. 1. 2. 3.]\n",
      " [4. 5. 6. 7.]]\n"
     ]
    }
   ],
   "source": [
    "y = layers.Concatenate(name='concat')([x_A, x_B])\n",
    "# y = layers.concatenate([x_A, x_B], name='concat')\n",
    "model = models.Model(inputs=[x_A, x_B], outputs=y)\n",
    "model.summary()\n",
    "y_pred = model.predict([x_test_A, x_test_B])\n",
    "print('x_test_A'); print(x_test_A)\n",
    "print('x_test_B'); print(x_test_B)\n",
    "print('y_pred'); print(y_pred)"
   ]
  },
  {
   "cell_type": "markdown",
   "metadata": {},
   "source": [
    "입력을 더해서 하나로 만드는 Add"
   ]
  },
  {
   "cell_type": "code",
   "execution_count": 3,
   "metadata": {
    "scrolled": false
   },
   "outputs": [
    {
     "name": "stdout",
     "output_type": "stream",
     "text": [
      "__________________________________________________________________________________________________\n",
      "Layer (type)                    Output Shape         Param #     Connected to                     \n",
      "==================================================================================================\n",
      "x_A (InputLayer)                (None, 2)            0                                            \n",
      "__________________________________________________________________________________________________\n",
      "x_B (InputLayer)                (None, 2)            0                                            \n",
      "__________________________________________________________________________________________________\n",
      "add (Add)                       (None, 2)            0           x_A[0][0]                        \n",
      "                                                                 x_B[0][0]                        \n",
      "==================================================================================================\n",
      "Total params: 0\n",
      "Trainable params: 0\n",
      "Non-trainable params: 0\n",
      "__________________________________________________________________________________________________\n",
      "x_test_A\n",
      "[[0 1]\n",
      " [4 5]]\n",
      "x_test_B\n",
      "[[2 3]\n",
      " [6 7]]\n",
      "y_pred\n",
      "[[ 2.  4.]\n",
      " [10. 12.]]\n"
     ]
    }
   ],
   "source": [
    "y = layers.Add(name='add')([x_A, x_B])\n",
    "# y = layers.add([x_A, x_B], name='add')\n",
    "model = models.Model(inputs=[x_A, x_B], outputs=y)\n",
    "model.summary()\n",
    "y_pred = model.predict([x_test_A, x_test_B])\n",
    "print('x_test_A'); print(x_test_A)\n",
    "print('x_test_B'); print(x_test_B)\n",
    "print('y_pred'); print(y_pred)"
   ]
  },
  {
   "cell_type": "markdown",
   "metadata": {},
   "source": [
    "두 입력을 곱해서 하나로 만드는 Multiply"
   ]
  },
  {
   "cell_type": "code",
   "execution_count": 4,
   "metadata": {},
   "outputs": [
    {
     "name": "stdout",
     "output_type": "stream",
     "text": [
      "__________________________________________________________________________________________________\n",
      "Layer (type)                    Output Shape         Param #     Connected to                     \n",
      "==================================================================================================\n",
      "x_A (InputLayer)                (None, 2)            0                                            \n",
      "__________________________________________________________________________________________________\n",
      "x_B (InputLayer)                (None, 2)            0                                            \n",
      "__________________________________________________________________________________________________\n",
      "mul (Multiply)                  (None, 2)            0           x_A[0][0]                        \n",
      "                                                                 x_B[0][0]                        \n",
      "==================================================================================================\n",
      "Total params: 0\n",
      "Trainable params: 0\n",
      "Non-trainable params: 0\n",
      "__________________________________________________________________________________________________\n",
      "x_test_A\n",
      "[[0 1]\n",
      " [4 5]]\n",
      "x_test_B\n",
      "[[2 3]\n",
      " [6 7]]\n",
      "y_pred\n",
      "[[ 0.  3.]\n",
      " [24. 35.]]\n"
     ]
    }
   ],
   "source": [
    "y = layers.Multiply(name='mul')([x_A, x_B])\n",
    "# y = layers.multiply([x_A, x_B], name='mul')\n",
    "model = models.Model(inputs=[x_A, x_B], outputs=y)\n",
    "model.summary()\n",
    "y_pred = model.predict([x_test_A, x_test_B])\n",
    "print('x_test_A'); print(x_test_A)\n",
    "print('x_test_B'); print(x_test_B)\n",
    "print('y_pred'); print(y_pred)"
   ]
  }
 ],
 "metadata": {
  "kernelspec": {
   "display_name": "Python 3",
   "language": "python",
   "name": "python3"
  },
  "language_info": {
   "codemirror_mode": {
    "name": "ipython",
    "version": 3
   },
   "file_extension": ".py",
   "mimetype": "text/x-python",
   "name": "python",
   "nbconvert_exporter": "python",
   "pygments_lexer": "ipython3",
   "version": "3.7.3"
  }
 },
 "nbformat": 4,
 "nbformat_minor": 2
}
