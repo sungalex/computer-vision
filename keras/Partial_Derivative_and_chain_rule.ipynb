{
 "cells": [
  {
   "cell_type": "markdown",
   "metadata": {},
   "source": [
    "### 1. 편미분(Partial Derivative)"
   ]
  },
  {
   "cell_type": "markdown",
   "metadata": {},
   "source": [
    "$z=f(x,y)$ --> x와 y가 정해지면, z의 값이 정해진다. x와 y의 값은 독립적으로 변한다.\n",
    "\n",
    "f는 함수의 이름이고, z는 변수의 이름이다.\n",
    "\n",
    "예, $z=2x+3y+1$ (식1) ---> $(x_0,y_0)가 (0,0)이면 z는 1\n",
    "\n",
    "$\\frac{\\delta f}{\\delta x} = \\frac{\\delta z}{\\delta x} = 2$ ---> y를 고정시키고, x가 변화할 때 z의 변화값\n",
    "\n",
    "$\\frac{\\delta f}{\\delta y} = \\frac{\\delta z}{\\delta y} = 3$ ---> x를 고정시키고, y가 변화할 때 z의 변화값\n",
    "\n",
    "$z = f(x_1, x_2, x_3)$\n",
    "\n",
    "$z= x_1x_2 + 2x_3$ (식2) 이면,\n",
    "\n",
    "$\\frac{\\delta z}{\\delta x_1} = x_2$\n",
    "\n",
    "$\\frac{\\delta z}{\\delta x_2} = x_1$\n",
    "\n",
    "$\\frac{\\delta z}{\\delta x_3} = 2$\n",
    "\n",
    "$z=g(x)$, 즉, x의 함수인 g로 z를 정의하면,\n",
    "\n",
    "(식1)은 $z = g(x) = 2x+3y_0+1$로 표현 할 수 있고,\n",
    "\n",
    "$\\frac{\\delta z}{\\delta x} = \\frac{d z}{d x} = 2$, 즉, 미분으로 표현할 수 있다.\n",
    "\n",
    "함수 이름을 써서, $\\frac{d f}{d x} = 2$ 처럼 쓰지는 않는다.(의미가 다르다)"
   ]
  },
  {
   "cell_type": "markdown",
   "metadata": {},
   "source": [
    "### 2. Chain Rule"
   ]
  },
  {
   "cell_type": "markdown",
   "metadata": {},
   "source": [
    "$y = f(x) = 2x + 1$ 이면, $\\frac{d y}{d x} = 2$\n",
    "\n",
    "$z = g(y) = 3y + 1$ 이면, $\\frac{d z}{d y} = 3$\n",
    "\n",
    "$\\frac{d z}{d x} = \\frac{d y}{d x} \\frac{d z}{d y} = 2 \\times 3 = 6$ ---> chain rule 이라 한다.\n",
    "\n",
    "계산을 통해 증명해보면,\n",
    "\n",
    "$z = h(x) = g(f(x)) = g \\circ f(x)$ 일때,\n",
    "\n",
    "$z = 3(2x+1) + 1$\n",
    "\n",
    "$z = 6x + 4$ --> $\\frac{d z}{d x} = 6$ ---> chin rule의 결과와 동일하다."
   ]
  },
  {
   "cell_type": "code",
   "execution_count": null,
   "metadata": {},
   "outputs": [],
   "source": []
  }
 ],
 "metadata": {
  "kernelspec": {
   "display_name": "Python 3",
   "language": "python",
   "name": "python3"
  },
  "language_info": {
   "codemirror_mode": {
    "name": "ipython",
    "version": 3
   },
   "file_extension": ".py",
   "mimetype": "text/x-python",
   "name": "python",
   "nbconvert_exporter": "python",
   "pygments_lexer": "ipython3",
   "version": "3.7.3"
  }
 },
 "nbformat": 4,
 "nbformat_minor": 2
}
