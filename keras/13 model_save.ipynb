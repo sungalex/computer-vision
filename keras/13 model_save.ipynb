{
 "cells": [
  {
   "cell_type": "markdown",
   "metadata": {
    "toc": true
   },
   "source": [
    "<h1>Table of Contents<span class=\"tocSkip\"></span></h1>\n",
    "<div class=\"toc\"><ul class=\"toc-item\"><li><span><a href=\"#모델-구현/학습\" data-toc-modified-id=\"모델-구현/학습-1\">모델 구현/학습</a></span></li><li><span><a href=\"#모델-구조와-weights를-모두-저장하기\" data-toc-modified-id=\"모델-구조와-weights를-모두-저장하기-2\">모델 구조와 weights를 모두 저장하기</a></span></li><li><span><a href=\"#모델-불러와서-사용하기\" data-toc-modified-id=\"모델-불러와서-사용하기-3\">모델 불러와서 사용하기</a></span></li><li><span><a href=\"#모델-구조만-JSON-형태로-저장하기\" data-toc-modified-id=\"모델-구조만-JSON-형태로-저장하기-4\">모델 구조만 JSON 형태로 저장하기</a></span></li><li><span><a href=\"#모델의-weights-만-저장하기\" data-toc-modified-id=\"모델의-weights-만-저장하기-5\">모델의 weights 만 저장하기</a></span></li><li><span><a href=\"#model과-weights를-별도로-읽어와서-사용하기\" data-toc-modified-id=\"model과-weights를-별도로-읽어와서-사용하기-6\">model과 weights를 별도로 읽어와서 사용하기</a></span></li></ul></div>"
   ]
  },
  {
   "cell_type": "markdown",
   "metadata": {},
   "source": [
    "### 모델 구현/학습"
   ]
  },
  {
   "cell_type": "code",
   "execution_count": 2,
   "metadata": {},
   "outputs": [
    {
     "name": "stdout",
     "output_type": "stream",
     "text": [
      "x_train: [[0 1]\n",
      " [2 3]\n",
      " [4 5]]\n",
      "y_train: [[1]\n",
      " [5]\n",
      " [9]]\n",
      "x_test: [[6 7]\n",
      " [8 9]]\n",
      "y_test: [[13]\n",
      " [17]]\n",
      "WARNING:tensorflow:From /Users/alex/anaconda3/lib/python3.7/site-packages/tensorflow/python/framework/op_def_library.py:263: colocate_with (from tensorflow.python.framework.ops) is deprecated and will be removed in a future version.\n",
      "Instructions for updating:\n",
      "Colocations handled automatically by placer.\n",
      "_________________________________________________________________\n",
      "Layer (type)                 Output Shape              Param #   \n",
      "=================================================================\n",
      "input_1 (InputLayer)         (None, 2)                 0         \n",
      "_________________________________________________________________\n",
      "dense_1 (Dense)              (None, 3)                 9         \n",
      "_________________________________________________________________\n",
      "dense_2 (Dense)              (None, 2)                 8         \n",
      "_________________________________________________________________\n",
      "dense_3 (Dense)              (None, 1)                 3         \n",
      "=================================================================\n",
      "Total params: 20\n",
      "Trainable params: 20\n",
      "Non-trainable params: 0\n",
      "_________________________________________________________________\n",
      "WARNING:tensorflow:From /Users/alex/anaconda3/lib/python3.7/site-packages/tensorflow/python/ops/math_ops.py:3066: to_int32 (from tensorflow.python.ops.math_ops) is deprecated and will be removed in a future version.\n",
      "Instructions for updating:\n",
      "Use tf.cast instead.\n",
      "y_pred: [[13.      ]\n",
      " [16.999996]]\n",
      "y_test: [[13]\n",
      " [17]]\n"
     ]
    }
   ],
   "source": [
    "from keras import layers, models\n",
    "import numpy as np\n",
    "\n",
    "x_train = np.array([[0,1], [2,3], [4,5]])\n",
    "y_train = np.sum(x_train, axis=1, keepdims=True)\n",
    "print('x_train:', x_train)\n",
    "print('y_train:', y_train)\n",
    "\n",
    "x_test = np.array([[6,7], [8,9]])\n",
    "y_test = np.sum(x_test, axis=1, keepdims=True)\n",
    "print('x_test:', x_test)\n",
    "print('y_test:', y_test)\n",
    "\n",
    "x = layers.Input((2,))\n",
    "h = layers.Dense(3)(x)\n",
    "h = layers.Dense(2)(h)\n",
    "y = layers.Dense(1)(h)\n",
    "\n",
    "model = models.Model(x, y)\n",
    "model.summary()\n",
    "\n",
    "model.compile('sgd', 'mse')\n",
    "model.fit(x_train, y_train, batch_size=3, epochs=1000, verbose=0)\n",
    "\n",
    "y_pred = model.predict(x_test)\n",
    "print('y_pred:', y_pred)\n",
    "print('y_test:', y_test)"
   ]
  },
  {
   "cell_type": "markdown",
   "metadata": {},
   "source": [
    "### 모델 구조와 weights를 모두 저장하기"
   ]
  },
  {
   "cell_type": "code",
   "execution_count": 3,
   "metadata": {},
   "outputs": [],
   "source": [
    "model.save('my_model.h5')"
   ]
  },
  {
   "cell_type": "code",
   "execution_count": 4,
   "metadata": {},
   "outputs": [
    {
     "name": "stdout",
     "output_type": "stream",
     "text": [
      "total 1152\r\n",
      "drwxr-xr-x  39 alex  staff   1248  6 19 15:16 \u001b[34m.\u001b[m\u001b[m\r\n",
      "drwxr-xr-x  17 alex  staff    544  6 19 15:16 \u001b[34m..\u001b[m\u001b[m\r\n",
      "-rw-r--r--@  1 alex  staff   6148  6 17 09:29 .DS_Store\r\n",
      "drwxr-xr-x   6 alex  staff    192  6 19 15:14 \u001b[34m.ipynb_checkpoints\u001b[m\u001b[m\r\n",
      "-rw-r--r--   1 alex  staff   2648  5 30 17:41 00 version check.ipynb\r\n",
      "-rw-r--r--   1 alex  staff   4190  5 30 17:41 01 sequential model 0.ipynb\r\n",
      "-rw-r--r--   1 alex  staff   4343  5 30 17:41 01 sequential model 1.ipynb\r\n",
      "-rw-r--r--   1 alex  staff   3423  5 30 17:57 01 sequential model 2.ipynb\r\n",
      "-rw-r--r--   1 alex  staff   4639  5 31 15:03 02 functional model 0.ipynb\r\n",
      "-rw-r--r--   1 alex  staff   3118  5 31 15:03 02 functional model 1.ipynb\r\n",
      "-rw-r--r--   1 alex  staff   3458  5 31 15:16 02 functional model 2.ipynb\r\n",
      "-rw-r--r--   1 alex  staff   3166  5 31 16:04 02 functional model 3.ipynb\r\n",
      "-rw-r--r--   1 alex  staff   6415  5 31 16:04 03 intermediate layers 0.ipynb\r\n",
      "-rw-r--r--   1 alex  staff  10308  5 31 16:04 03 intermediate layers 1.ipynb\r\n",
      "-rw-r--r--   1 alex  staff  10645  6  4 17:07 04 model weights.ipynb\r\n",
      "-rw-r--r--   1 alex  staff  39717  6  4 17:07 05 history plot.ipynb\r\n",
      "-rw-r--r--   1 alex  staff   4492  6  4 17:07 06 activation 0.ipynb\r\n",
      "-rw-r--r--   1 alex  staff  49431  6  5 15:01 06 activation 1.ipynb\r\n",
      "-rw-r--r--   1 alex  staff   2163  6  5 17:57 07 custom FNN 0.ipynb\r\n",
      "-rw-r--r--   1 alex  staff   2462  6 11 16:30 07 custom FNN 0.py\r\n",
      "-rw-r--r--   1 alex  staff   2522  6 12 17:01 07 custom FNN 1.py\r\n",
      "-rw-r--r--   1 alex  staff   4263  6 12 17:55 07 custom FNN 2.py\r\n",
      "-rw-r--r--   1 alex  staff   4457  6 13 17:59 07 custom FNN 3.py\r\n",
      "-rwxr-xr-x@  1 alex  staff  10417  6 14 14:46 \u001b[31m08 Lambda layer 0.ipynb\u001b[m\u001b[m\r\n",
      "-rwxr-xr-x@  1 alex  staff   8033  6 14 15:31 \u001b[31m08 Lambda layer 1.ipynb\u001b[m\u001b[m\r\n",
      "-rwxr-xr-x@  1 alex  staff   7763  6 14 16:13 \u001b[31m09 Merge layers 0.ipynb\u001b[m\u001b[m\r\n",
      "-rwxr-xr-x@  1 alex  staff  45292  6 14 17:44 \u001b[31m09 Merge layers 1.ipynb\u001b[m\u001b[m\r\n",
      "-rwxr-xr-x@  1 alex  staff  10664  6 15 19:20 \u001b[31m10 nodes 0.ipynb\u001b[m\u001b[m\r\n",
      "-rwxr-xr-x@  1 alex  staff   7984  6 17 09:12 \u001b[31m10 nodes 1.ipynb\u001b[m\u001b[m\r\n",
      "-rwxr-xr-x@  1 alex  staff   5623  6 18 17:58 \u001b[31m10 nodes 2.ipynb\u001b[m\u001b[m\r\n",
      "-rwxr-xr-x@  1 alex  staff  63288  6 16 02:29 \u001b[31m11 multi-input multi-output 0.ipynb\u001b[m\u001b[m\r\n",
      "-rwxr-xr-x@  1 alex  staff  61407  6 19 14:14 \u001b[31m11 multi-input multi-output 1.ipynb\u001b[m\u001b[m\r\n",
      "-rw-r--r--   1 alex  staff  42600  6 19 14:35 12 shared layer 0.ipynb\r\n",
      "-rw-r--r--   1 alex  staff  45183  6 19 14:54 12 shared layer 1.ipynb\r\n",
      "-rw-r--r--   1 alex  staff   4578  6 19 15:14 13 model_save.ipynb\r\n",
      "-rw-r--r--   1 alex  staff   2644  6  5 15:01 Partial_Derivative_and_chain_rule.ipynb\r\n",
      "-rw-r--r--   1 alex  staff   3672  6 13 16:16 custom FNN.md\r\n",
      "drwxr-xr-x  20 alex  staff    640  6 13 17:59 \u001b[34mimg\u001b[m\u001b[m\r\n",
      "-rw-r--r--   1 alex  staff  24600  6 19 15:15 my_model.h5\r\n"
     ]
    }
   ],
   "source": [
    "!ls -al"
   ]
  },
  {
   "cell_type": "markdown",
   "metadata": {},
   "source": [
    "### 모델 불러와서 사용하기"
   ]
  },
  {
   "cell_type": "code",
   "execution_count": 5,
   "metadata": {},
   "outputs": [],
   "source": [
    "model = models.load_model('my_model.h5')"
   ]
  },
  {
   "cell_type": "code",
   "execution_count": 6,
   "metadata": {},
   "outputs": [
    {
     "name": "stdout",
     "output_type": "stream",
     "text": [
      "_________________________________________________________________\n",
      "Layer (type)                 Output Shape              Param #   \n",
      "=================================================================\n",
      "input_1 (InputLayer)         (None, 2)                 0         \n",
      "_________________________________________________________________\n",
      "dense_1 (Dense)              (None, 3)                 9         \n",
      "_________________________________________________________________\n",
      "dense_2 (Dense)              (None, 2)                 8         \n",
      "_________________________________________________________________\n",
      "dense_3 (Dense)              (None, 1)                 3         \n",
      "=================================================================\n",
      "Total params: 20\n",
      "Trainable params: 20\n",
      "Non-trainable params: 0\n",
      "_________________________________________________________________\n"
     ]
    }
   ],
   "source": [
    "model.summary()"
   ]
  },
  {
   "cell_type": "code",
   "execution_count": 7,
   "metadata": {},
   "outputs": [
    {
     "name": "stdout",
     "output_type": "stream",
     "text": [
      "y_pred: [[13.      ]\n",
      " [16.999996]]\n",
      "y_test: [[13]\n",
      " [17]]\n"
     ]
    }
   ],
   "source": [
    "y_pred = model.predict(x_test)\n",
    "print('y_pred:', y_pred)\n",
    "print('y_test:', y_test)"
   ]
  },
  {
   "cell_type": "markdown",
   "metadata": {},
   "source": [
    "### 모델 구조만 JSON 형태로 저장하기"
   ]
  },
  {
   "cell_type": "code",
   "execution_count": 8,
   "metadata": {},
   "outputs": [],
   "source": [
    "with open('my_model.json', 'w') as f:\n",
    "    f.write(model.to_json())"
   ]
  },
  {
   "cell_type": "code",
   "execution_count": 9,
   "metadata": {},
   "outputs": [
    {
     "name": "stdout",
     "output_type": "stream",
     "text": [
      "total 1168\r\n",
      "drwxr-xr-x  40 alex  staff   1280  6 19 15:22 \u001b[34m.\u001b[m\u001b[m\r\n",
      "drwxr-xr-x  17 alex  staff    544  6 19 15:22 \u001b[34m..\u001b[m\u001b[m\r\n",
      "-rw-r--r--@  1 alex  staff   6148  6 17 09:29 .DS_Store\r\n",
      "drwxr-xr-x   6 alex  staff    192  6 19 15:18 \u001b[34m.ipynb_checkpoints\u001b[m\u001b[m\r\n",
      "-rw-r--r--   1 alex  staff   2648  5 30 17:41 00 version check.ipynb\r\n",
      "-rw-r--r--   1 alex  staff   4190  5 30 17:41 01 sequential model 0.ipynb\r\n",
      "-rw-r--r--   1 alex  staff   4343  5 30 17:41 01 sequential model 1.ipynb\r\n",
      "-rw-r--r--   1 alex  staff   3423  5 30 17:57 01 sequential model 2.ipynb\r\n",
      "-rw-r--r--   1 alex  staff   4639  5 31 15:03 02 functional model 0.ipynb\r\n",
      "-rw-r--r--   1 alex  staff   3118  5 31 15:03 02 functional model 1.ipynb\r\n",
      "-rw-r--r--   1 alex  staff   3458  5 31 15:16 02 functional model 2.ipynb\r\n",
      "-rw-r--r--   1 alex  staff   3166  5 31 16:04 02 functional model 3.ipynb\r\n",
      "-rw-r--r--   1 alex  staff   6415  5 31 16:04 03 intermediate layers 0.ipynb\r\n",
      "-rw-r--r--   1 alex  staff  10308  5 31 16:04 03 intermediate layers 1.ipynb\r\n",
      "-rw-r--r--   1 alex  staff  10645  6  4 17:07 04 model weights.ipynb\r\n",
      "-rw-r--r--   1 alex  staff  39717  6  4 17:07 05 history plot.ipynb\r\n",
      "-rw-r--r--   1 alex  staff   4492  6  4 17:07 06 activation 0.ipynb\r\n",
      "-rw-r--r--   1 alex  staff  49431  6  5 15:01 06 activation 1.ipynb\r\n",
      "-rw-r--r--   1 alex  staff   2163  6  5 17:57 07 custom FNN 0.ipynb\r\n",
      "-rw-r--r--   1 alex  staff   2462  6 11 16:30 07 custom FNN 0.py\r\n",
      "-rw-r--r--   1 alex  staff   2522  6 12 17:01 07 custom FNN 1.py\r\n",
      "-rw-r--r--   1 alex  staff   4263  6 12 17:55 07 custom FNN 2.py\r\n",
      "-rw-r--r--   1 alex  staff   4457  6 13 17:59 07 custom FNN 3.py\r\n",
      "-rwxr-xr-x@  1 alex  staff  10417  6 14 14:46 \u001b[31m08 Lambda layer 0.ipynb\u001b[m\u001b[m\r\n",
      "-rwxr-xr-x@  1 alex  staff   8033  6 14 15:31 \u001b[31m08 Lambda layer 1.ipynb\u001b[m\u001b[m\r\n",
      "-rwxr-xr-x@  1 alex  staff   7763  6 14 16:13 \u001b[31m09 Merge layers 0.ipynb\u001b[m\u001b[m\r\n",
      "-rwxr-xr-x@  1 alex  staff  45292  6 14 17:44 \u001b[31m09 Merge layers 1.ipynb\u001b[m\u001b[m\r\n",
      "-rwxr-xr-x@  1 alex  staff  10664  6 15 19:20 \u001b[31m10 nodes 0.ipynb\u001b[m\u001b[m\r\n",
      "-rwxr-xr-x@  1 alex  staff   7984  6 17 09:12 \u001b[31m10 nodes 1.ipynb\u001b[m\u001b[m\r\n",
      "-rwxr-xr-x@  1 alex  staff   5623  6 18 17:58 \u001b[31m10 nodes 2.ipynb\u001b[m\u001b[m\r\n",
      "-rwxr-xr-x@  1 alex  staff  63288  6 16 02:29 \u001b[31m11 multi-input multi-output 0.ipynb\u001b[m\u001b[m\r\n",
      "-rwxr-xr-x@  1 alex  staff  61407  6 19 14:14 \u001b[31m11 multi-input multi-output 1.ipynb\u001b[m\u001b[m\r\n",
      "-rw-r--r--   1 alex  staff  42600  6 19 14:35 12 shared layer 0.ipynb\r\n",
      "-rw-r--r--   1 alex  staff  45183  6 19 14:54 12 shared layer 1.ipynb\r\n",
      "-rw-r--r--   1 alex  staff  11123  6 19 15:20 13 model_save.ipynb\r\n",
      "-rw-r--r--   1 alex  staff   2644  6  5 15:01 Partial_Derivative_and_chain_rule.ipynb\r\n",
      "-rw-r--r--   1 alex  staff   3672  6 13 16:16 custom FNN.md\r\n",
      "drwxr-xr-x  20 alex  staff    640  6 13 17:59 \u001b[34mimg\u001b[m\u001b[m\r\n",
      "-rw-r--r--   1 alex  staff  24600  6 19 15:15 my_model.h5\r\n",
      "-rw-r--r--   1 alex  staff   1952  6 19 15:22 my_model.json\r\n"
     ]
    }
   ],
   "source": [
    "!ls -al"
   ]
  },
  {
   "cell_type": "markdown",
   "metadata": {},
   "source": [
    "### 모델의 weights 만 저장하기"
   ]
  },
  {
   "cell_type": "code",
   "execution_count": 10,
   "metadata": {},
   "outputs": [],
   "source": [
    "model.save_weights('my_model_weight.h5')"
   ]
  },
  {
   "cell_type": "code",
   "execution_count": 11,
   "metadata": {},
   "outputs": [
    {
     "name": "stdout",
     "output_type": "stream",
     "text": [
      "total 1216\r\n",
      "drwxr-xr-x  41 alex  staff   1312  6 19 15:24 \u001b[34m.\u001b[m\u001b[m\r\n",
      "drwxr-xr-x  17 alex  staff    544  6 19 15:24 \u001b[34m..\u001b[m\u001b[m\r\n",
      "-rw-r--r--@  1 alex  staff   6148  6 17 09:29 .DS_Store\r\n",
      "drwxr-xr-x   6 alex  staff    192  6 19 15:18 \u001b[34m.ipynb_checkpoints\u001b[m\u001b[m\r\n",
      "-rw-r--r--   1 alex  staff   2648  5 30 17:41 00 version check.ipynb\r\n",
      "-rw-r--r--   1 alex  staff   4190  5 30 17:41 01 sequential model 0.ipynb\r\n",
      "-rw-r--r--   1 alex  staff   4343  5 30 17:41 01 sequential model 1.ipynb\r\n",
      "-rw-r--r--   1 alex  staff   3423  5 30 17:57 01 sequential model 2.ipynb\r\n",
      "-rw-r--r--   1 alex  staff   4639  5 31 15:03 02 functional model 0.ipynb\r\n",
      "-rw-r--r--   1 alex  staff   3118  5 31 15:03 02 functional model 1.ipynb\r\n",
      "-rw-r--r--   1 alex  staff   3458  5 31 15:16 02 functional model 2.ipynb\r\n",
      "-rw-r--r--   1 alex  staff   3166  5 31 16:04 02 functional model 3.ipynb\r\n",
      "-rw-r--r--   1 alex  staff   6415  5 31 16:04 03 intermediate layers 0.ipynb\r\n",
      "-rw-r--r--   1 alex  staff  10308  5 31 16:04 03 intermediate layers 1.ipynb\r\n",
      "-rw-r--r--   1 alex  staff  10645  6  4 17:07 04 model weights.ipynb\r\n",
      "-rw-r--r--   1 alex  staff  39717  6  4 17:07 05 history plot.ipynb\r\n",
      "-rw-r--r--   1 alex  staff   4492  6  4 17:07 06 activation 0.ipynb\r\n",
      "-rw-r--r--   1 alex  staff  49431  6  5 15:01 06 activation 1.ipynb\r\n",
      "-rw-r--r--   1 alex  staff   2163  6  5 17:57 07 custom FNN 0.ipynb\r\n",
      "-rw-r--r--   1 alex  staff   2462  6 11 16:30 07 custom FNN 0.py\r\n",
      "-rw-r--r--   1 alex  staff   2522  6 12 17:01 07 custom FNN 1.py\r\n",
      "-rw-r--r--   1 alex  staff   4263  6 12 17:55 07 custom FNN 2.py\r\n",
      "-rw-r--r--   1 alex  staff   4457  6 13 17:59 07 custom FNN 3.py\r\n",
      "-rwxr-xr-x@  1 alex  staff  10417  6 14 14:46 \u001b[31m08 Lambda layer 0.ipynb\u001b[m\u001b[m\r\n",
      "-rwxr-xr-x@  1 alex  staff   8033  6 14 15:31 \u001b[31m08 Lambda layer 1.ipynb\u001b[m\u001b[m\r\n",
      "-rwxr-xr-x@  1 alex  staff   7763  6 14 16:13 \u001b[31m09 Merge layers 0.ipynb\u001b[m\u001b[m\r\n",
      "-rwxr-xr-x@  1 alex  staff  45292  6 14 17:44 \u001b[31m09 Merge layers 1.ipynb\u001b[m\u001b[m\r\n",
      "-rwxr-xr-x@  1 alex  staff  10664  6 15 19:20 \u001b[31m10 nodes 0.ipynb\u001b[m\u001b[m\r\n",
      "-rwxr-xr-x@  1 alex  staff   7984  6 17 09:12 \u001b[31m10 nodes 1.ipynb\u001b[m\u001b[m\r\n",
      "-rwxr-xr-x@  1 alex  staff   5623  6 18 17:58 \u001b[31m10 nodes 2.ipynb\u001b[m\u001b[m\r\n",
      "-rwxr-xr-x@  1 alex  staff  63288  6 16 02:29 \u001b[31m11 multi-input multi-output 0.ipynb\u001b[m\u001b[m\r\n",
      "-rwxr-xr-x@  1 alex  staff  61407  6 19 14:14 \u001b[31m11 multi-input multi-output 1.ipynb\u001b[m\u001b[m\r\n",
      "-rw-r--r--   1 alex  staff  42600  6 19 14:35 12 shared layer 0.ipynb\r\n",
      "-rw-r--r--   1 alex  staff  45183  6 19 14:54 12 shared layer 1.ipynb\r\n",
      "-rw-r--r--   1 alex  staff  15437  6 19 15:24 13 model_save.ipynb\r\n",
      "-rw-r--r--   1 alex  staff   2644  6  5 15:01 Partial_Derivative_and_chain_rule.ipynb\r\n",
      "-rw-r--r--   1 alex  staff   3672  6 13 16:16 custom FNN.md\r\n",
      "drwxr-xr-x  20 alex  staff    640  6 13 17:59 \u001b[34mimg\u001b[m\u001b[m\r\n",
      "-rw-r--r--   1 alex  staff  24600  6 19 15:15 my_model.h5\r\n",
      "-rw-r--r--   1 alex  staff   1952  6 19 15:22 my_model.json\r\n",
      "-rw-r--r--   1 alex  staff  16680  6 19 15:24 my_model_weight.h5\r\n"
     ]
    }
   ],
   "source": [
    "!ls -al"
   ]
  },
  {
   "cell_type": "markdown",
   "metadata": {},
   "source": [
    "### model과 weights를 별도로 읽어와서 사용하기"
   ]
  },
  {
   "cell_type": "code",
   "execution_count": 13,
   "metadata": {},
   "outputs": [
    {
     "name": "stdout",
     "output_type": "stream",
     "text": [
      "{\"class_name\": \"Model\", \"config\": {\"name\": \"model_1\", \"layers\": [{\"name\": \"input_1\", \"class_name\": \"InputLayer\", \"config\": {\"batch_input_shape\": [null, 2], \"dtype\": \"float32\", \"sparse\": false, \"name\": \"input_1\"}, \"inbound_nodes\": []}, {\"name\": \"dense_1\", \"class_name\": \"Dense\", \"config\": {\"name\": \"dense_1\", \"trainable\": true, \"units\": 3, \"activation\": \"linear\", \"use_bias\": true, \"kernel_initializer\": {\"class_name\": \"VarianceScaling\", \"config\": {\"scale\": 1.0, \"mode\": \"fan_avg\", \"distribution\": \"uniform\", \"seed\": null}}, \"bias_initializer\": {\"class_name\": \"Zeros\", \"config\": {}}, \"kernel_regularizer\": null, \"bias_regularizer\": null, \"activity_regularizer\": null, \"kernel_constraint\": null, \"bias_constraint\": null}, \"inbound_nodes\": [[[\"input_1\", 0, 0, {}]]]}, {\"name\": \"dense_2\", \"class_name\": \"Dense\", \"config\": {\"name\": \"dense_2\", \"trainable\": true, \"units\": 2, \"activation\": \"linear\", \"use_bias\": true, \"kernel_initializer\": {\"class_name\": \"VarianceScaling\", \"config\": {\"scale\": 1.0, \"mode\": \"fan_avg\", \"distribution\": \"uniform\", \"seed\": null}}, \"bias_initializer\": {\"class_name\": \"Zeros\", \"config\": {}}, \"kernel_regularizer\": null, \"bias_regularizer\": null, \"activity_regularizer\": null, \"kernel_constraint\": null, \"bias_constraint\": null}, \"inbound_nodes\": [[[\"dense_1\", 0, 0, {}]]]}, {\"name\": \"dense_3\", \"class_name\": \"Dense\", \"config\": {\"name\": \"dense_3\", \"trainable\": true, \"units\": 1, \"activation\": \"linear\", \"use_bias\": true, \"kernel_initializer\": {\"class_name\": \"VarianceScaling\", \"config\": {\"scale\": 1.0, \"mode\": \"fan_avg\", \"distribution\": \"uniform\", \"seed\": null}}, \"bias_initializer\": {\"class_name\": \"Zeros\", \"config\": {}}, \"kernel_regularizer\": null, \"bias_regularizer\": null, \"activity_regularizer\": null, \"kernel_constraint\": null, \"bias_constraint\": null}, \"inbound_nodes\": [[[\"dense_2\", 0, 0, {}]]]}], \"input_layers\": [[\"input_1\", 0, 0]], \"output_layers\": [[\"dense_3\", 0, 0]]}, \"keras_version\": \"2.2.4\", \"backend\": \"tensorflow\"}\n"
     ]
    }
   ],
   "source": [
    "with open('my_model.json', 'r') as f:\n",
    "    json_string = f.read()\n",
    "    \n",
    "print(json_string)"
   ]
  },
  {
   "cell_type": "code",
   "execution_count": 14,
   "metadata": {},
   "outputs": [
    {
     "name": "stdout",
     "output_type": "stream",
     "text": [
      "_________________________________________________________________\n",
      "Layer (type)                 Output Shape              Param #   \n",
      "=================================================================\n",
      "input_1 (InputLayer)         (None, 2)                 0         \n",
      "_________________________________________________________________\n",
      "dense_1 (Dense)              (None, 3)                 9         \n",
      "_________________________________________________________________\n",
      "dense_2 (Dense)              (None, 2)                 8         \n",
      "_________________________________________________________________\n",
      "dense_3 (Dense)              (None, 1)                 3         \n",
      "=================================================================\n",
      "Total params: 20\n",
      "Trainable params: 20\n",
      "Non-trainable params: 0\n",
      "_________________________________________________________________\n"
     ]
    }
   ],
   "source": [
    "model = models.model_from_json(json_string)\n",
    "model.summary()"
   ]
  },
  {
   "cell_type": "code",
   "execution_count": 15,
   "metadata": {},
   "outputs": [
    {
     "name": "stdout",
     "output_type": "stream",
     "text": [
      "y_pred: [[13.      ]\n",
      " [16.999996]]\n",
      "y_test: [[13]\n",
      " [17]]\n"
     ]
    }
   ],
   "source": [
    "model.load_weights('my_model_weight.h5')\n",
    "\n",
    "y_pred = model.predict(x_test)\n",
    "print('y_pred:', y_pred)\n",
    "print('y_test:', y_test)"
   ]
  },
  {
   "cell_type": "code",
   "execution_count": null,
   "metadata": {},
   "outputs": [],
   "source": []
  }
 ],
 "metadata": {
  "kernelspec": {
   "display_name": "Python 3",
   "language": "python",
   "name": "python3"
  },
  "language_info": {
   "codemirror_mode": {
    "name": "ipython",
    "version": 3
   },
   "file_extension": ".py",
   "mimetype": "text/x-python",
   "name": "python",
   "nbconvert_exporter": "python",
   "pygments_lexer": "ipython3",
   "version": "3.7.1"
  },
  "latex_envs": {
   "LaTeX_envs_menu_present": true,
   "autoclose": false,
   "autocomplete": true,
   "bibliofile": "biblio.bib",
   "cite_by": "apalike",
   "current_citInitial": 1,
   "eqLabelWithNumbers": true,
   "eqNumInitial": 1,
   "hotkeys": {
    "equation": "Ctrl-E",
    "itemize": "Ctrl-I"
   },
   "labels_anchors": false,
   "latex_user_defs": false,
   "report_style_numbering": false,
   "user_envs_cfg": false
  },
  "toc": {
   "base_numbering": 1,
   "nav_menu": {},
   "number_sections": false,
   "sideBar": true,
   "skip_h1_title": false,
   "title_cell": "Table of Contents",
   "title_sidebar": "Contents",
   "toc_cell": true,
   "toc_position": {},
   "toc_section_display": true,
   "toc_window_display": false
  }
 },
 "nbformat": 4,
 "nbformat_minor": 2
}
