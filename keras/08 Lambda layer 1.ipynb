{
 "cells": [
  {
   "cell_type": "markdown",
   "metadata": {},
   "source": [
<<<<<<< HEAD
    "activation 함수들을 backend.exp 와 backend.switch 함수를 사용하여 Lambda layer 로 대체해보겠습니다."
=======
    "## Activation 함수를 Lambda layer로 구현하기"
>>>>>>> 5c39790a2b66c52fc3aaf10f2dfe99019e0db345
   ]
  },
  {
   "cell_type": "code",
   "execution_count": 1,
   "metadata": {},
   "outputs": [
    {
     "name": "stderr",
     "output_type": "stream",
     "text": [
      "Using TensorFlow backend.\n"
     ]
    }
   ],
   "source": [
    "from keras import layers, models\n",
    "import keras.backend as K\n",
    "import numpy as np\n",
    "\n",
<<<<<<< HEAD
    "x_test = np.array([[-1],[2]])\n",
=======
    "x_test = np.array([[-1], [2]])\n",
>>>>>>> 5c39790a2b66c52fc3aaf10f2dfe99019e0db345
    "x = layers.Input((1,))"
   ]
  },
  {
   "cell_type": "markdown",
   "metadata": {},
   "source": [
<<<<<<< HEAD
    "sigmoid 함수를 Lambda layer 로 대체"
=======
    "### sigmoid"
>>>>>>> 5c39790a2b66c52fc3aaf10f2dfe99019e0db345
   ]
  },
  {
   "cell_type": "code",
<<<<<<< HEAD
   "execution_count": 2,
   "metadata": {
    "scrolled": true
   },
=======
   "execution_count": 3,
   "metadata": {},
>>>>>>> 5c39790a2b66c52fc3aaf10f2dfe99019e0db345
   "outputs": [
    {
     "name": "stdout",
     "output_type": "stream",
     "text": [
      "_________________________________________________________________\n",
      "Layer (type)                 Output Shape              Param #   \n",
      "=================================================================\n",
      "input_1 (InputLayer)         (None, 1)                 0         \n",
      "_________________________________________________________________\n",
<<<<<<< HEAD
      "activation_1 (Activation)    (None, 1)                 0         \n",
=======
      "activation_2 (Activation)    (None, 1)                 0         \n",
>>>>>>> 5c39790a2b66c52fc3aaf10f2dfe99019e0db345
      "=================================================================\n",
      "Total params: 0\n",
      "Trainable params: 0\n",
      "Non-trainable params: 0\n",
      "_________________________________________________________________\n",
<<<<<<< HEAD
      "y_pred\n",
      "[[0.26894143]\n",
      " [0.880797  ]]\n",
=======
      "y_pred:\n",
      " [[0.26894143]\n",
      " [0.880797  ]]\n"
     ]
    }
   ],
   "source": [
    "y = layers.Activation('sigmoid')(x)\n",
    "model = models.Model(x, y)\n",
    "model.summary()\n",
    "y_pred = model.predict(x_test)\n",
    "print('y_pred:\\n', y_pred)"
   ]
  },
  {
   "cell_type": "code",
   "execution_count": 5,
   "metadata": {},
   "outputs": [
    {
     "name": "stdout",
     "output_type": "stream",
     "text": [
>>>>>>> 5c39790a2b66c52fc3aaf10f2dfe99019e0db345
      "_________________________________________________________________\n",
      "Layer (type)                 Output Shape              Param #   \n",
      "=================================================================\n",
      "input_1 (InputLayer)         (None, 1)                 0         \n",
      "_________________________________________________________________\n",
<<<<<<< HEAD
      "lambda_1 (Lambda)            (None, 1)                 0         \n",
=======
      "lambda_2 (Lambda)            (None, 1)                 0         \n",
>>>>>>> 5c39790a2b66c52fc3aaf10f2dfe99019e0db345
      "=================================================================\n",
      "Total params: 0\n",
      "Trainable params: 0\n",
      "Non-trainable params: 0\n",
      "_________________________________________________________________\n",
<<<<<<< HEAD
      "y_pred\n",
      "[[0.26894143]\n",
=======
      "y_pred:\n",
      " [[0.26894143]\n",
>>>>>>> 5c39790a2b66c52fc3aaf10f2dfe99019e0db345
      " [0.880797  ]]\n"
     ]
    }
   ],
   "source": [
<<<<<<< HEAD
    "y = layers.Activation('sigmoid')(x)\n",
    "model = models.Model(x, y)\n",
    "model.summary()\n",
    "y_pred = model.predict(x_test)\n",
    "print('y_pred'); print(y_pred)\n",
    "\n",
    "y = layers.Lambda( lambda x: 1 / (1+K.exp(-x)) )(x)\n",
    "model = models.Model(x, y)\n",
    "model.summary()\n",
    "y_pred = model.predict(x_test)\n",
    "print('y_pred'); print(y_pred)"
=======
    "y = layers.Lambda(lambda x: 1 / (1 + K.exp(-x)))(x)\n",
    "model = models.Model(x, y)\n",
    "model.summary()\n",
    "y_pred = model.predict(x_test)\n",
    "print('y_pred:\\n', y_pred)"
>>>>>>> 5c39790a2b66c52fc3aaf10f2dfe99019e0db345
   ]
  },
  {
   "cell_type": "markdown",
   "metadata": {},
   "source": [
<<<<<<< HEAD
    "tanh 함수를 Lambda layer 로 대체"
=======
    "### tanh (hyperbolic tangent)"
>>>>>>> 5c39790a2b66c52fc3aaf10f2dfe99019e0db345
   ]
  },
  {
   "cell_type": "code",
<<<<<<< HEAD
   "execution_count": 3,
   "metadata": {
    "scrolled": true
   },
=======
   "execution_count": 10,
   "metadata": {},
>>>>>>> 5c39790a2b66c52fc3aaf10f2dfe99019e0db345
   "outputs": [
    {
     "name": "stdout",
     "output_type": "stream",
     "text": [
      "_________________________________________________________________\n",
      "Layer (type)                 Output Shape              Param #   \n",
      "=================================================================\n",
      "input_1 (InputLayer)         (None, 1)                 0         \n",
      "_________________________________________________________________\n",
<<<<<<< HEAD
      "activation_2 (Activation)    (None, 1)                 0         \n",
=======
      "activation_6 (Activation)    (None, 1)                 0         \n",
>>>>>>> 5c39790a2b66c52fc3aaf10f2dfe99019e0db345
      "=================================================================\n",
      "Total params: 0\n",
      "Trainable params: 0\n",
      "Non-trainable params: 0\n",
      "_________________________________________________________________\n",
<<<<<<< HEAD
      "y_pred\n",
      "[[-0.7615942]\n",
=======
      "y_pred:\n",
      " [[-0.7615942]\n",
>>>>>>> 5c39790a2b66c52fc3aaf10f2dfe99019e0db345
      " [ 0.9640276]]\n",
      "_________________________________________________________________\n",
      "Layer (type)                 Output Shape              Param #   \n",
      "=================================================================\n",
      "input_1 (InputLayer)         (None, 1)                 0         \n",
      "_________________________________________________________________\n",
<<<<<<< HEAD
      "lambda_2 (Lambda)            (None, 1)                 0         \n",
=======
      "lambda_6 (Lambda)            (None, 1)                 0         \n",
>>>>>>> 5c39790a2b66c52fc3aaf10f2dfe99019e0db345
      "=================================================================\n",
      "Total params: 0\n",
      "Trainable params: 0\n",
      "Non-trainable params: 0\n",
      "_________________________________________________________________\n",
<<<<<<< HEAD
      "y_pred\n",
      "[[-0.7615942]\n",
=======
      "y_pred:\n",
      " [[-0.7615942]\n",
>>>>>>> 5c39790a2b66c52fc3aaf10f2dfe99019e0db345
      " [ 0.9640275]]\n"
     ]
    }
   ],
   "source": [
    "y = layers.Activation('tanh')(x)\n",
    "model = models.Model(x, y)\n",
    "model.summary()\n",
    "y_pred = model.predict(x_test)\n",
<<<<<<< HEAD
    "print('y_pred'); print(y_pred)\n",
    "\n",
    "#y = layers.Lambda( lambda x: (K.exp(2*x)-1) / (K.exp(2*x)+1) )(x)\n",
    "y = layers.Lambda( lambda x: (K.exp(x)-K.exp(-x)) / (K.exp(x)+K.exp(-x)) )(x)\n",
    "model = models.Model(x, y)\n",
    "model.summary()\n",
    "y_pred = model.predict(x_test)\n",
    "print('y_pred'); print(y_pred)"
=======
    "print('y_pred:\\n', y_pred)\n",
    "\n",
    "# y = layers.Lambda(lambda x: (K.exp(2*x) - 1) / (K.exp(2*x) + 1))(x)\n",
    "y = layers.Lambda(lambda x: (K.exp(x) - K.exp(-x)) / (K.exp(x) + K.exp(-x)))(x)\n",
    "model = models.Model(x, y)\n",
    "model.summary()\n",
    "y_pred = model.predict(x_test)\n",
    "print('y_pred:\\n', y_pred)"
>>>>>>> 5c39790a2b66c52fc3aaf10f2dfe99019e0db345
   ]
  },
  {
   "cell_type": "markdown",
   "metadata": {},
   "source": [
<<<<<<< HEAD
    "relu 함수를 Lambda layer 로 대체"
=======
    "### ReLU"
>>>>>>> 5c39790a2b66c52fc3aaf10f2dfe99019e0db345
   ]
  },
  {
   "cell_type": "code",
<<<<<<< HEAD
   "execution_count": 4,
   "metadata": {},
=======
   "execution_count": 16,
   "metadata": {
    "scrolled": false
   },
>>>>>>> 5c39790a2b66c52fc3aaf10f2dfe99019e0db345
   "outputs": [
    {
     "name": "stdout",
     "output_type": "stream",
     "text": [
      "_________________________________________________________________\n",
      "Layer (type)                 Output Shape              Param #   \n",
      "=================================================================\n",
<<<<<<< HEAD
      "input_1 (InputLayer)         (None, 1)                 0         \n",
      "_________________________________________________________________\n",
      "activation_3 (Activation)    (None, 1)                 0         \n",
=======
      "input_4 (InputLayer)         (None, 2)                 0         \n",
      "_________________________________________________________________\n",
      "activation_12 (Activation)   (None, 2)                 0         \n",
>>>>>>> 5c39790a2b66c52fc3aaf10f2dfe99019e0db345
      "=================================================================\n",
      "Total params: 0\n",
      "Trainable params: 0\n",
      "Non-trainable params: 0\n",
      "_________________________________________________________________\n",
<<<<<<< HEAD
      "y_pred\n",
      "[[0.]\n",
      " [2.]]\n",
      "_________________________________________________________________\n",
      "Layer (type)                 Output Shape              Param #   \n",
      "=================================================================\n",
      "input_1 (InputLayer)         (None, 1)                 0         \n",
      "_________________________________________________________________\n",
      "lambda_3 (Lambda)            (None, 1)                 0         \n",
=======
      "y_pred:\n",
      " [[0. 1.]\n",
      " [2. 0.]]\n",
      "_________________________________________________________________\n",
      "Layer (type)                 Output Shape              Param #   \n",
      "=================================================================\n",
      "input_4 (InputLayer)         (None, 2)                 0         \n",
      "_________________________________________________________________\n",
      "lambda_12 (Lambda)           (None, 2)                 0         \n",
>>>>>>> 5c39790a2b66c52fc3aaf10f2dfe99019e0db345
      "=================================================================\n",
      "Total params: 0\n",
      "Trainable params: 0\n",
      "Non-trainable params: 0\n",
      "_________________________________________________________________\n",
<<<<<<< HEAD
      "y_pred\n",
      "[[0.]\n",
      " [2.]]\n"
=======
      "y_pred:\n",
      " [[0. 1.]\n",
      " [2. 0.]]\n"
>>>>>>> 5c39790a2b66c52fc3aaf10f2dfe99019e0db345
     ]
    }
   ],
   "source": [
<<<<<<< HEAD
=======
    "x_test = np.array([[-1, 1], [2, -3]])\n",
    "x = layers.Input((2,))\n",
    "\n",
>>>>>>> 5c39790a2b66c52fc3aaf10f2dfe99019e0db345
    "y = layers.Activation('relu')(x)\n",
    "model = models.Model(x, y)\n",
    "model.summary()\n",
    "y_pred = model.predict(x_test)\n",
<<<<<<< HEAD
    "print('y_pred'); print(y_pred)\n",
    "\n",
    "y = layers.Lambda( lambda x: K.switch(x>0, x, K.zeros_like(x)) )(x)\n",
    "model = models.Model(x, y)\n",
    "model.summary()\n",
    "y_pred = model.predict(x_test)\n",
    "print('y_pred'); print(y_pred)"
   ]
=======
    "print('y_pred:\\n', y_pred)\n",
    "\n",
    "#y = layers.Lambda(lambda x: K.switch(x>0, x, K.ones_like(x)*0))(x)\n",
    "y = layers.Lambda(lambda x: K.max((K.ones_like(x)*0,x),axis=0))(x)\n",
    "model = models.Model(x, y)\n",
    "model.summary()\n",
    "y_pred = model.predict(x_test)\n",
    "print('y_pred:\\n', y_pred)"
   ]
  },
  {
   "cell_type": "code",
   "execution_count": null,
   "metadata": {},
   "outputs": [],
   "source": []
>>>>>>> 5c39790a2b66c52fc3aaf10f2dfe99019e0db345
  }
 ],
 "metadata": {
  "kernelspec": {
   "display_name": "Python 3",
   "language": "python",
   "name": "python3"
  },
  "language_info": {
   "codemirror_mode": {
    "name": "ipython",
    "version": 3
   },
   "file_extension": ".py",
   "mimetype": "text/x-python",
   "name": "python",
   "nbconvert_exporter": "python",
   "pygments_lexer": "ipython3",
   "version": "3.7.3"
  }
 },
 "nbformat": 4,
 "nbformat_minor": 2
}
