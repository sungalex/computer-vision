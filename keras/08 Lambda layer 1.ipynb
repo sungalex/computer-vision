{
 "cells": [
  {
   "cell_type": "markdown",
   "metadata": {},
   "source": [
    "## Activation 함수를 Lambda layer로 구현하기"
   ]
  },
  {
   "cell_type": "code",
   "execution_count": 1,
   "metadata": {},
   "outputs": [
    {
     "name": "stderr",
     "output_type": "stream",
     "text": [
      "Using TensorFlow backend.\n"
     ]
    }
   ],
   "source": [
    "from keras import layers, models\n",
    "import keras.backend as K\n",
    "import numpy as np\n",
    "\n",
    "x_test = np.array([[-1], [2]])\n",
    "x = layers.Input((1,))"
   ]
  },
  {
   "cell_type": "markdown",
   "metadata": {},
   "source": [
    "### sigmoid"
   ]
  },
  {
   "cell_type": "code",
   "execution_count": 3,
   "metadata": {},
   "outputs": [
    {
     "name": "stdout",
     "output_type": "stream",
     "text": [
      "_________________________________________________________________\n",
      "Layer (type)                 Output Shape              Param #   \n",
      "=================================================================\n",
      "input_1 (InputLayer)         (None, 1)                 0         \n",
      "_________________________________________________________________\n",
      "activation_2 (Activation)    (None, 1)                 0         \n",
      "=================================================================\n",
      "Total params: 0\n",
      "Trainable params: 0\n",
      "Non-trainable params: 0\n",
      "_________________________________________________________________\n",
      "y_pred:\n",
      " [[0.26894143]\n",
      " [0.880797  ]]\n"
     ]
    }
   ],
   "source": [
    "y = layers.Activation('sigmoid')(x)\n",
    "model = models.Model(x, y)\n",
    "model.summary()\n",
    "y_pred = model.predict(x_test)\n",
    "print('y_pred:\\n', y_pred)"
   ]
  },
  {
   "cell_type": "code",
   "execution_count": 5,
   "metadata": {},
   "outputs": [
    {
     "name": "stdout",
     "output_type": "stream",
     "text": [
      "_________________________________________________________________\n",
      "Layer (type)                 Output Shape              Param #   \n",
      "=================================================================\n",
      "input_1 (InputLayer)         (None, 1)                 0         \n",
      "_________________________________________________________________\n",
      "lambda_2 (Lambda)            (None, 1)                 0         \n",
      "=================================================================\n",
      "Total params: 0\n",
      "Trainable params: 0\n",
      "Non-trainable params: 0\n",
      "_________________________________________________________________\n",
      "y_pred:\n",
      " [[0.26894143]\n",
      " [0.880797  ]]\n"
     ]
    }
   ],
   "source": [
    "y = layers.Lambda(lambda x: 1 / (1 + K.exp(-x)))(x)\n",
    "model = models.Model(x, y)\n",
    "model.summary()\n",
    "y_pred = model.predict(x_test)\n",
    "print('y_pred:\\n', y_pred)"
   ]
  },
  {
   "cell_type": "markdown",
   "metadata": {},
   "source": [
    "### tanh (hyperbolic tangent)"
   ]
  },
  {
   "cell_type": "code",
   "execution_count": 10,
   "metadata": {},
   "outputs": [
    {
     "name": "stdout",
     "output_type": "stream",
     "text": [
      "_________________________________________________________________\n",
      "Layer (type)                 Output Shape              Param #   \n",
      "=================================================================\n",
      "input_1 (InputLayer)         (None, 1)                 0         \n",
      "_________________________________________________________________\n",
      "activation_6 (Activation)    (None, 1)                 0         \n",
      "=================================================================\n",
      "Total params: 0\n",
      "Trainable params: 0\n",
      "Non-trainable params: 0\n",
      "_________________________________________________________________\n",
      "y_pred:\n",
      " [[-0.7615942]\n",
      " [ 0.9640276]]\n",
      "_________________________________________________________________\n",
      "Layer (type)                 Output Shape              Param #   \n",
      "=================================================================\n",
      "input_1 (InputLayer)         (None, 1)                 0         \n",
      "_________________________________________________________________\n",
      "lambda_6 (Lambda)            (None, 1)                 0         \n",
      "=================================================================\n",
      "Total params: 0\n",
      "Trainable params: 0\n",
      "Non-trainable params: 0\n",
      "_________________________________________________________________\n",
      "y_pred:\n",
      " [[-0.7615942]\n",
      " [ 0.9640275]]\n"
     ]
    }
   ],
   "source": [
    "y = layers.Activation('tanh')(x)\n",
    "model = models.Model(x, y)\n",
    "model.summary()\n",
    "y_pred = model.predict(x_test)\n",
    "print('y_pred:\\n', y_pred)\n",
    "\n",
    "# y = layers.Lambda(lambda x: (K.exp(2*x) - 1) / (K.exp(2*x) + 1))(x)\n",
    "y = layers.Lambda(lambda x: (K.exp(x) - K.exp(-x)) / (K.exp(x) + K.exp(-x)))(x)\n",
    "model = models.Model(x, y)\n",
    "model.summary()\n",
    "y_pred = model.predict(x_test)\n",
    "print('y_pred:\\n', y_pred)"
   ]
  },
  {
   "cell_type": "markdown",
   "metadata": {},
   "source": [
    "### ReLU"
   ]
  },
  {
   "cell_type": "code",
   "execution_count": 16,
   "metadata": {
    "scrolled": false
   },
   "outputs": [
    {
     "name": "stdout",
     "output_type": "stream",
     "text": [
      "_________________________________________________________________\n",
      "Layer (type)                 Output Shape              Param #   \n",
      "=================================================================\n",
      "input_4 (InputLayer)         (None, 2)                 0         \n",
      "_________________________________________________________________\n",
      "activation_12 (Activation)   (None, 2)                 0         \n",
      "=================================================================\n",
      "Total params: 0\n",
      "Trainable params: 0\n",
      "Non-trainable params: 0\n",
      "_________________________________________________________________\n",
      "y_pred:\n",
      " [[0. 1.]\n",
      " [2. 0.]]\n",
      "_________________________________________________________________\n",
      "Layer (type)                 Output Shape              Param #   \n",
      "=================================================================\n",
      "input_4 (InputLayer)         (None, 2)                 0         \n",
      "_________________________________________________________________\n",
      "lambda_12 (Lambda)           (None, 2)                 0         \n",
      "=================================================================\n",
      "Total params: 0\n",
      "Trainable params: 0\n",
      "Non-trainable params: 0\n",
      "_________________________________________________________________\n",
      "y_pred:\n",
      " [[0. 1.]\n",
      " [2. 0.]]\n"
     ]
    }
   ],
   "source": [
    "x_test = np.array([[-1, 1], [2, -3]])\n",
    "x = layers.Input((2,))\n",
    "\n",
    "y = layers.Activation('relu')(x)\n",
    "model = models.Model(x, y)\n",
    "model.summary()\n",
    "y_pred = model.predict(x_test)\n",
    "print('y_pred:\\n', y_pred)\n",
    "\n",
    "#y = layers.Lambda(lambda x: K.switch(x>0, x, K.ones_like(x)*0))(x)\n",
    "y = layers.Lambda(lambda x: K.max((K.ones_like(x)*0,x),axis=0))(x)\n",
    "model = models.Model(x, y)\n",
    "model.summary()\n",
    "y_pred = model.predict(x_test)\n",
    "print('y_pred:\\n', y_pred)"
   ]
  },
  {
   "cell_type": "code",
   "execution_count": null,
   "metadata": {},
   "outputs": [],
   "source": []
  }
 ],
 "metadata": {
  "kernelspec": {
   "display_name": "Python 3",
   "language": "python",
   "name": "python3"
  },
  "language_info": {
   "codemirror_mode": {
    "name": "ipython",
    "version": 3
   },
   "file_extension": ".py",
   "mimetype": "text/x-python",
   "name": "python",
   "nbconvert_exporter": "python",
   "pygments_lexer": "ipython3",
   "version": "3.7.3"
  }
 },
 "nbformat": 4,
 "nbformat_minor": 2
}
