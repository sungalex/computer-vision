{
 "cells": [
  {
   "cell_type": "markdown",
   "metadata": {},
   "source": [
    "[실습]\n",
    "아래 식을 만족하는 데이터 셋을 생성하고, 학습하는 모델 만들기\n",
    "\n",
    "$y = \\frac{2}{1+e^{-(2x+1)}} + 1$\n",
    "\n",
    "아래와 같이 풀어 쓸 수 있음\n",
    "\n",
    "$x$ ----> input\n",
    "\n",
    "$x_1 = 2x + 1$    ----> Dense layer\n",
    "\n",
    "$x_2 = \\frac{1}{1+e^{-x_1}}$   ----> Activation function: sigmoid\n",
    "\n",
    "$y = 2x_2 + 1$    ----> Dense layer"
   ]
  },
  {
   "cell_type": "code",
   "execution_count": 16,
   "metadata": {},
   "outputs": [
    {
     "data": {
      "image/png": "[encoded data removed]",
      "text/plain": [
       "<Figure size 432x288 with 1 Axes>"
      ]
     },
     "metadata": {
      "needs_background": "light"
     },
     "output_type": "display_data"
    }
   ],
   "source": [
    "%matplotlib inline\n",
    "\n",
    "import keras\n",
    "import numpy as np\n",
    "import matplotlib.pyplot as plt\n",
    "\n",
    "def f(x):\n",
    "    return 2 / (1 + np.exp(-(2*x + 1))) + 1\n",
    "\n",
    "# f(x) 함수 확인\n",
    "x = np.linspace(-0.5-4, -0.5+4, num=100)\n",
    "plt.plot(x, f(x))\n",
    "plt.show()"
   ]
  },
  {
   "cell_type": "code",
   "execution_count": 17,
   "metadata": {},
   "outputs": [
    {
     "name": "stdout",
     "output_type": "stream",
     "text": [
      "[[-2.5]\n",
      " [-1.5]\n",
      " [-0.5]\n",
      " [ 0.5]\n",
      " [ 1.5]]\n",
      "[[1.03597242]\n",
      " [1.23840584]\n",
      " [2.        ]\n",
      " [2.76159416]\n",
      " [2.96402758]]\n"
     ]
    }
   ],
   "source": [
    "x_train = np.random.rand(1024,1)*10-5\n",
    "y_train = f(x_train)\n",
    "\n",
    "x_test = np.linspace(-0.5-2, -0.5+2, num=5).reshape((-1,1))\n",
    "y_test = f(x_test)\n",
    "print(x_test)\n",
    "print(y_test)"
   ]
  },
  {
   "cell_type": "code",
   "execution_count": 18,
   "metadata": {
    "scrolled": true
   },
   "outputs": [
    {
     "name": "stdout",
     "output_type": "stream",
     "text": [
      "_________________________________________________________________\n",
      "Layer (type)                 Output Shape              Param #   \n",
      "=================================================================\n",
      "d1 (Dense)                   (None, 1)                 2         \n",
      "_________________________________________________________________\n",
      "sigmoid (Activation)         (None, 1)                 0         \n",
      "_________________________________________________________________\n",
      "d2 (Dense)                   (None, 1)                 2         \n",
      "=================================================================\n",
      "Total params: 4\n",
      "Trainable params: 4\n",
      "Non-trainable params: 0\n",
      "_________________________________________________________________\n",
      "Train on 819 samples, validate on 205 samples\n",
      "Epoch 1/100\n",
      "819/819 [==============================] - 0s 204us/step - loss: 1.7015 - val_loss: 0.5422\n",
      "Epoch 2/100\n",
      "819/819 [==============================] - 0s 52us/step - loss: 0.4476 - val_loss: 0.3055\n",
      "Epoch 3/100\n",
      "819/819 [==============================] - 0s 49us/step - loss: 0.2425 - val_loss: 0.1659\n",
      "Epoch 4/100\n",
      "819/819 [==============================] - 0s 47us/step - loss: 0.1297 - val_loss: 0.0921\n",
      "Epoch 5/100\n",
      "819/819 [==============================] - 0s 49us/step - loss: 0.0726 - val_loss: 0.0557\n",
      "Epoch 6/100\n",
      "819/819 [==============================] - 0s 45us/step - loss: 0.0444 - val_loss: 0.0378\n",
      "Epoch 7/100\n",
      "819/819 [==============================] - 0s 46us/step - loss: 0.0301 - val_loss: 0.0279\n",
      "Epoch 8/100\n",
      "819/819 [==============================] - 0s 49us/step - loss: 0.0223 - val_loss: 0.0223\n",
      "Epoch 9/100\n",
      "819/819 [==============================] - 0s 45us/step - loss: 0.0177 - val_loss: 0.0187\n",
      "Epoch 10/100\n",
      "819/819 [==============================] - 0s 45us/step - loss: 0.0148 - val_loss: 0.0159\n",
      "Epoch 11/100\n",
      "819/819 [==============================] - 0s 49us/step - loss: 0.0126 - val_loss: 0.0140\n",
      "Epoch 12/100\n",
      "819/819 [==============================] - 0s 46us/step - loss: 0.0110 - val_loss: 0.0125\n",
      "Epoch 13/100\n",
      "819/819 [==============================] - 0s 46us/step - loss: 0.0096 - val_loss: 0.0109\n",
      "Epoch 14/100\n",
      "819/819 [==============================] - 0s 46us/step - loss: 0.0086 - val_loss: 0.0098\n",
      "Epoch 15/100\n",
      "819/819 [==============================] - 0s 47us/step - loss: 0.0076 - val_loss: 0.0088\n",
      "Epoch 16/100\n",
      "819/819 [==============================] - 0s 50us/step - loss: 0.0069 - val_loss: 0.0080\n",
      "Epoch 17/100\n",
      "819/819 [==============================] - 0s 47us/step - loss: 0.0062 - val_loss: 0.0073\n",
      "Epoch 18/100\n",
      "819/819 [==============================] - 0s 49us/step - loss: 0.0056 - val_loss: 0.0065\n",
      "Epoch 19/100\n",
      "819/819 [==============================] - 0s 49us/step - loss: 0.0051 - val_loss: 0.0059\n",
      "Epoch 20/100\n",
      "819/819 [==============================] - 0s 46us/step - loss: 0.0047 - val_loss: 0.0054\n",
      "Epoch 21/100\n",
      "819/819 [==============================] - 0s 46us/step - loss: 0.0043 - val_loss: 0.0050\n",
      "Epoch 22/100\n",
      "819/819 [==============================] - 0s 49us/step - loss: 0.0039 - val_loss: 0.0046\n",
      "Epoch 23/100\n",
      "819/819 [==============================] - 0s 50us/step - loss: 0.0036 - val_loss: 0.0043\n",
      "Epoch 24/100\n",
      "819/819 [==============================] - 0s 49us/step - loss: 0.0034 - val_loss: 0.0039\n",
      "Epoch 25/100\n",
      "819/819 [==============================] - 0s 45us/step - loss: 0.0031 - val_loss: 0.0037\n",
      "Epoch 26/100\n",
      "819/819 [==============================] - 0s 49us/step - loss: 0.0029 - val_loss: 0.0034\n",
      "Epoch 27/100\n",
      "819/819 [==============================] - 0s 46us/step - loss: 0.0027 - val_loss: 0.0032\n",
      "Epoch 28/100\n",
      "819/819 [==============================] - 0s 47us/step - loss: 0.0025 - val_loss: 0.0030\n",
      "Epoch 29/100\n",
      "819/819 [==============================] - 0s 49us/step - loss: 0.0024 - val_loss: 0.0028\n",
      "Epoch 30/100\n",
      "819/819 [==============================] - 0s 49us/step - loss: 0.0022 - val_loss: 0.0027\n",
      "Epoch 31/100\n",
      "819/819 [==============================] - 0s 47us/step - loss: 0.0021 - val_loss: 0.0025\n",
      "Epoch 32/100\n",
      "819/819 [==============================] - 0s 46us/step - loss: 0.0020 - val_loss: 0.0024\n",
      "Epoch 33/100\n",
      "819/819 [==============================] - 0s 47us/step - loss: 0.0019 - val_loss: 0.0022\n",
      "Epoch 34/100\n",
      "819/819 [==============================] - 0s 49us/step - loss: 0.0017 - val_loss: 0.0021\n",
      "Epoch 35/100\n",
      "819/819 [==============================] - 0s 47us/step - loss: 0.0017 - val_loss: 0.0019\n",
      "Epoch 36/100\n",
      "819/819 [==============================] - 0s 47us/step - loss: 0.0016 - val_loss: 0.0018\n",
      "Epoch 37/100\n",
      "819/819 [==============================] - 0s 45us/step - loss: 0.0015 - val_loss: 0.0017\n",
      "Epoch 38/100\n",
      "819/819 [==============================] - ETA: 0s - loss: 0.002 - 0s 46us/step - loss: 0.0014 - val_loss: 0.0017\n",
      "Epoch 39/100\n",
      "819/819 [==============================] - 0s 46us/step - loss: 0.0013 - val_loss: 0.0016\n",
      "Epoch 40/100\n",
      "819/819 [==============================] - 0s 44us/step - loss: 0.0013 - val_loss: 0.0015\n",
      "Epoch 41/100\n",
      "819/819 [==============================] - 0s 47us/step - loss: 0.0012 - val_loss: 0.0014\n",
      "Epoch 42/100\n",
      "819/819 [==============================] - 0s 47us/step - loss: 0.0011 - val_loss: 0.0014\n",
      "Epoch 43/100\n",
      "819/819 [==============================] - 0s 47us/step - loss: 0.0011 - val_loss: 0.0013\n",
      "Epoch 44/100\n",
      "819/819 [==============================] - 0s 47us/step - loss: 0.0010 - val_loss: 0.0012\n",
      "Epoch 45/100\n",
      "819/819 [==============================] - 0s 47us/step - loss: 9.9254e-04 - val_loss: 0.0012\n",
      "Epoch 46/100\n",
      "819/819 [==============================] - 0s 49us/step - loss: 9.4596e-04 - val_loss: 0.0011\n",
      "Epoch 47/100\n",
      "819/819 [==============================] - 0s 49us/step - loss: 9.0232e-04 - val_loss: 0.0011\n",
      "Epoch 48/100\n",
      "819/819 [==============================] - 0s 47us/step - loss: 8.5974e-04 - val_loss: 0.0010\n",
      "Epoch 49/100\n",
      "819/819 [==============================] - 0s 49us/step - loss: 8.2479e-04 - val_loss: 9.7291e-04\n",
      "Epoch 50/100\n",
      "819/819 [==============================] - 0s 49us/step - loss: 7.8940e-04 - val_loss: 9.3434e-04\n",
      "Epoch 51/100\n",
      "819/819 [==============================] - 0s 50us/step - loss: 7.5356e-04 - val_loss: 8.9233e-04\n",
      "Epoch 52/100\n",
      "819/819 [==============================] - 0s 47us/step - loss: 7.1762e-04 - val_loss: 8.5251e-04\n",
      "Epoch 53/100\n",
      "819/819 [==============================] - 0s 46us/step - loss: 6.9040e-04 - val_loss: 8.1563e-04\n",
      "Epoch 54/100\n",
      "819/819 [==============================] - 0s 46us/step - loss: 6.6048e-04 - val_loss: 7.8155e-04\n",
      "Epoch 55/100\n",
      "819/819 [==============================] - 0s 47us/step - loss: 6.3264e-04 - val_loss: 7.4859e-04\n",
      "Epoch 56/100\n",
      "819/819 [==============================] - 0s 47us/step - loss: 6.0578e-04 - val_loss: 7.2114e-04\n",
      "Epoch 57/100\n",
      "819/819 [==============================] - 0s 49us/step - loss: 5.8142e-04 - val_loss: 6.8787e-04\n",
      "Epoch 58/100\n",
      "819/819 [==============================] - 0s 46us/step - loss: 5.5535e-04 - val_loss: 6.6360e-04\n",
      "Epoch 59/100\n",
      "819/819 [==============================] - 0s 46us/step - loss: 5.3185e-04 - val_loss: 6.3136e-04\n",
      "Epoch 60/100\n",
      "819/819 [==============================] - 0s 49us/step - loss: 5.0873e-04 - val_loss: 6.1120e-04\n",
      "Epoch 61/100\n",
      "819/819 [==============================] - 0s 47us/step - loss: 4.9136e-04 - val_loss: 5.8440e-04\n",
      "Epoch 62/100\n",
      "819/819 [==============================] - 0s 47us/step - loss: 4.7079e-04 - val_loss: 5.6034e-04\n",
      "Epoch 63/100\n",
      "819/819 [==============================] - 0s 45us/step - loss: 4.5250e-04 - val_loss: 5.3804e-04\n",
      "Epoch 64/100\n",
      "819/819 [==============================] - 0s 46us/step - loss: 4.3421e-04 - val_loss: 5.1487e-04\n",
      "Epoch 65/100\n",
      "819/819 [==============================] - 0s 45us/step - loss: 4.1712e-04 - val_loss: 4.9604e-04\n",
      "Epoch 66/100\n",
      "819/819 [==============================] - 0s 51us/step - loss: 4.0000e-04 - val_loss: 4.7675e-04\n",
      "Epoch 67/100\n",
      "819/819 [==============================] - 0s 49us/step - loss: 3.8472e-04 - val_loss: 4.5641e-04\n",
      "Epoch 68/100\n",
      "819/819 [==============================] - 0s 49us/step - loss: 3.6992e-04 - val_loss: 4.3982e-04\n",
      "Epoch 69/100\n",
      "819/819 [==============================] - 0s 47us/step - loss: 3.5511e-04 - val_loss: 4.2626e-04\n",
      "Epoch 70/100\n",
      "819/819 [==============================] - 0s 49us/step - loss: 3.4108e-04 - val_loss: 4.0836e-04\n",
      "Epoch 71/100\n"
     ]
    },
    {
     "name": "stdout",
     "output_type": "stream",
     "text": [
      "819/819 [==============================] - 0s 45us/step - loss: 3.2917e-04 - val_loss: 3.9031e-04\n",
      "Epoch 72/100\n",
      "819/819 [==============================] - 0s 45us/step - loss: 3.1635e-04 - val_loss: 3.7666e-04\n",
      "Epoch 73/100\n",
      "819/819 [==============================] - 0s 49us/step - loss: 3.0402e-04 - val_loss: 3.6349e-04\n",
      "Epoch 74/100\n",
      "819/819 [==============================] - 0s 45us/step - loss: 2.9309e-04 - val_loss: 3.4953e-04\n",
      "Epoch 75/100\n",
      "819/819 [==============================] - 0s 47us/step - loss: 2.8163e-04 - val_loss: 3.3505e-04\n",
      "Epoch 76/100\n",
      "819/819 [==============================] - 0s 46us/step - loss: 2.7121e-04 - val_loss: 3.2441e-04\n",
      "Epoch 77/100\n",
      "819/819 [==============================] - 0s 46us/step - loss: 2.6140e-04 - val_loss: 3.1044e-04\n",
      "Epoch 78/100\n",
      "819/819 [==============================] - 0s 45us/step - loss: 2.5141e-04 - val_loss: 3.0054e-04\n",
      "Epoch 79/100\n",
      "819/819 [==============================] - 0s 47us/step - loss: 2.4185e-04 - val_loss: 2.8949e-04\n",
      "Epoch 80/100\n",
      "819/819 [==============================] - 0s 45us/step - loss: 2.3316e-04 - val_loss: 2.7848e-04\n",
      "Epoch 81/100\n",
      "819/819 [==============================] - 0s 46us/step - loss: 2.2475e-04 - val_loss: 2.7055e-04\n",
      "Epoch 82/100\n",
      "819/819 [==============================] - 0s 46us/step - loss: 2.1728e-04 - val_loss: 2.5973e-04\n",
      "Epoch 83/100\n",
      "819/819 [==============================] - 0s 49us/step - loss: 2.0856e-04 - val_loss: 2.4919e-04\n",
      "Epoch 84/100\n",
      "819/819 [==============================] - 0s 47us/step - loss: 2.0111e-04 - val_loss: 2.4113e-04\n",
      "Epoch 85/100\n",
      "819/819 [==============================] - 0s 50us/step - loss: 1.9391e-04 - val_loss: 2.3153e-04\n",
      "Epoch 86/100\n",
      "819/819 [==============================] - 0s 49us/step - loss: 1.8711e-04 - val_loss: 2.2334e-04\n",
      "Epoch 87/100\n",
      "819/819 [==============================] - 0s 49us/step - loss: 1.7980e-04 - val_loss: 2.1719e-04\n",
      "Epoch 88/100\n",
      "819/819 [==============================] - 0s 47us/step - loss: 1.7402e-04 - val_loss: 2.0889e-04\n",
      "Epoch 89/100\n",
      "819/819 [==============================] - 0s 47us/step - loss: 1.6792e-04 - val_loss: 1.9996e-04\n",
      "Epoch 90/100\n",
      "819/819 [==============================] - 0s 45us/step - loss: 1.6165e-04 - val_loss: 1.9273e-04\n",
      "Epoch 91/100\n",
      "819/819 [==============================] - 0s 45us/step - loss: 1.5617e-04 - val_loss: 1.8575e-04\n",
      "Epoch 92/100\n",
      "819/819 [==============================] - 0s 45us/step - loss: 1.5034e-04 - val_loss: 1.8066e-04\n",
      "Epoch 93/100\n",
      "819/819 [==============================] - 0s 49us/step - loss: 1.4486e-04 - val_loss: 1.7403e-04\n",
      "Epoch 94/100\n",
      "819/819 [==============================] - 0s 49us/step - loss: 1.3970e-04 - val_loss: 1.6705e-04\n",
      "Epoch 95/100\n",
      "819/819 [==============================] - 0s 46us/step - loss: 1.3507e-04 - val_loss: 1.6143e-04\n",
      "Epoch 96/100\n",
      "819/819 [==============================] - 0s 46us/step - loss: 1.3030e-04 - val_loss: 1.5716e-04\n",
      "Epoch 97/100\n",
      "819/819 [==============================] - 0s 45us/step - loss: 1.2607e-04 - val_loss: 1.5122e-04\n",
      "Epoch 98/100\n",
      "819/819 [==============================] - 0s 46us/step - loss: 1.2131e-04 - val_loss: 1.4619e-04\n",
      "Epoch 99/100\n",
      "819/819 [==============================] - 0s 47us/step - loss: 1.1740e-04 - val_loss: 1.4102e-04\n",
      "Epoch 100/100\n",
      "819/819 [==============================] - 0s 45us/step - loss: 1.1328e-04 - val_loss: 1.3676e-04\n"
     ]
    }
   ],
   "source": [
    "model = keras.models.Sequential()\n",
    "model.add(keras.layers.Dense(1, name='d1', input_dim=1))\n",
    "model.add(keras.layers.Activation('sigmoid', name='sigmoid'))\n",
    "model.add(keras.layers.Dense(1, name='d2'))\n",
    "\n",
    "model.summary()\n",
    "sgd = keras.optimizers.SGD(lr=0.05)\n",
    "model.compile(sgd, 'mse')\n",
    "hist = model.fit(x_train, y_train, batch_size=32, epochs=100, validation_split=0.2)"
   ]
  },
  {
   "cell_type": "code",
   "execution_count": 19,
   "metadata": {},
   "outputs": [
    {
     "data": {
      "text/plain": [
       "<matplotlib.legend.Legend at 0x25477459ac8>"
      ]
     },
     "execution_count": 19,
     "metadata": {},
     "output_type": "execute_result"
    },
    {
     "data": {
      "image/png": "[encoded data removed]",
      "text/plain": [
       "<Figure size 432x288 with 1 Axes>"
      ]
     },
     "metadata": {
      "needs_background": "light"
     },
     "output_type": "display_data"
    }
   ],
   "source": [
    "plt.plot(hist.history['loss'][10:], label='loss')\n",
    "plt.plot(hist.history['val_loss'][10:], label='val_loss')\n",
    "plt.xlabel('epoch')\n",
    "plt.ylabel('loss')\n",
    "plt.legend(loc=0)"
   ]
  },
  {
   "cell_type": "code",
   "execution_count": 20,
   "metadata": {},
   "outputs": [
    {
     "name": "stdout",
     "output_type": "stream",
     "text": [
      "y_pred\n",
      "[[1.0379249]\n",
      " [1.2542344]\n",
      " [1.992003 ]\n",
      " [2.7392926]\n",
      " [2.9620643]]\n",
      "y_test\n",
      "[[1.03597242]\n",
      " [1.23840584]\n",
      " [2.        ]\n",
      " [2.76159416]\n",
      " [2.96402758]]\n"
     ]
    }
   ],
   "source": [
    "y_pred = model.predict(x_test)\n",
    "print('y_pred'); print(y_pred)\n",
    "print('y_test'); print(y_test)"
   ]
  },
  {
   "cell_type": "code",
   "execution_count": 21,
   "metadata": {},
   "outputs": [
    {
     "name": "stdout",
     "output_type": "stream",
     "text": [
      "d1_weights\n",
      "[array([[1.8891925]], dtype=float32), array([0.92720526], dtype=float32)]\n",
      "d2_weights\n",
      "[array([[2.0141807]], dtype=float32), array([0.99366957], dtype=float32)]\n"
     ]
    }
   ],
   "source": [
    "d1_weights = model.get_layer('d1').get_weights()\n",
    "d2_weights = model.get_layer('d2').get_weights()\n",
    "\n",
    "print('d1_weights'); print(d1_weights)\n",
    "print('d2_weights'); print(d2_weights)"
   ]
  },
  {
   "cell_type": "code",
   "execution_count": null,
   "metadata": {},
   "outputs": [],
   "source": []
  }
 ],
 "metadata": {
  "kernelspec": {
   "display_name": "Python 3",
   "language": "python",
   "name": "python3"
  },
  "language_info": {
   "codemirror_mode": {
    "name": "ipython",
    "version": 3
   },
   "file_extension": ".py",
   "mimetype": "text/x-python",
   "name": "python",
   "nbconvert_exporter": "python",
   "pygments_lexer": "ipython3",
   "version": "3.7.3"
  }
 },
 "nbformat": 4,
 "nbformat_minor": 2
}
