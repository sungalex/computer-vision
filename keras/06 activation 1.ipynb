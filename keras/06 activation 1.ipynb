{
 "cells": [
  {
   "cell_type": "markdown",
   "metadata": {},
   "source": [
    "[실습]\n",
    "아래 식을 만족하는 데이터 셋을 생성하고, 학습하는 모델 만들기\n",
    "\n",
    "$y = \\frac{2}{1+e^{-(2x+1)}} + 1$ ----> (식1)\n",
    "\n",
    "아래와 같이 풀어 쓸 수 있음\n",
    "\n",
    "$x$ ----> input\n",
    "\n",
    "$x_1 = 2x + 1$    ----> Dense layer (d1) ---> weight는 (2,1)\n",
    "\n",
    "$x_2 = \\frac{1}{1+e^{-x_1}}$   ----> Activation function: sigmoid\n",
    "\n",
    "$y = 2x_2 + 1$    ----> Dense layer (d2) ---> weight는 (2,1)\n",
    "\n",
    "(식1)은 아래와 같이 변형이 가능하다.\n",
    "\n",
    "분모, 분자에 $e^{2x+1}$을 곱하면,\n",
    "\n",
    "$=\\frac{2e^{2x+1}}{1+e^{2x+1}}+1$\n",
    "\n",
    "분자에 +2, -2를 추가하면,\n",
    "\n",
    "$=\\frac{2(1+e^{2x+1})-2}{1+e^{2x+1}}+1$\n",
    "\n",
    "$=2+\\frac{-2}{1+e^{2x+1}}+1$\n",
    "\n",
    "$=\\frac{-2}{1+e^{2x+1}}+3$\n",
    "\n",
    "$=-2\\frac{1}{1+e^{-(-2x-1)}}+3$\n",
    "\n",
    "이를 다시 풀어쓰면,\n",
    "\n",
    "$x$ ----> input\n",
    "\n",
    "$x_1 = -2x - 1$    ----> Dense layer (d1) ---> weight는 (-2,-1)\n",
    "\n",
    "$x_2 = \\frac{1}{1+e^{-x_1}}$   ----> Activation function: sigmoid\n",
    "\n",
    "$y = -2x_2 + 3$    ----> Dense layer (d2) ---> weight는 (-2,3)\n",
    "\n",
    "결론적으로, 학습이 완료되면,<br>\n",
    "d1의 weight는 (2,1) 또는 (-2,-1) 이고,<br>\n",
    "d2의 weight는 (2,1) 또는 (-3,3) 이다."
   ]
  },
  {
   "cell_type": "code",
   "execution_count": 1,
   "metadata": {},
   "outputs": [
    {
     "name": "stderr",
     "output_type": "stream",
     "text": [
      "Using TensorFlow backend.\n"
     ]
    },
    {
     "data": {
      "image/png": "[encoded data removed]",
      "text/plain": [
       "<Figure size 432x288 with 1 Axes>"
      ]
     },
     "metadata": {
      "needs_background": "light"
     },
     "output_type": "display_data"
    }
   ],
   "source": [
    "%matplotlib inline\n",
    "\n",
    "import keras\n",
    "import numpy as np\n",
    "import matplotlib.pyplot as plt\n",
    "\n",
    "def f(x):\n",
    "    return 2 / (1 + np.exp(-(2*x + 1))) + 1\n",
    "\n",
    "# f(x) 함수 확인\n",
    "x = np.linspace(-0.5-4, -0.5+4, num=100)\n",
    "plt.plot(x, f(x))\n",
    "plt.show()"
   ]
  },
  {
   "cell_type": "code",
   "execution_count": 2,
   "metadata": {},
   "outputs": [
    {
     "name": "stdout",
     "output_type": "stream",
     "text": [
      "[[-2.5]\n",
      " [-1.5]\n",
      " [-0.5]\n",
      " [ 0.5]\n",
      " [ 1.5]]\n",
      "[[1.03597242]\n",
      " [1.23840584]\n",
      " [2.        ]\n",
      " [2.76159416]\n",
      " [2.96402758]]\n"
     ]
    }
   ],
   "source": [
    "x_train = np.random.rand(1024,1)*10-5\n",
    "y_train = f(x_train)\n",
    "\n",
    "x_test = np.linspace(-0.5-2, -0.5+2, num=5).reshape((-1,1))\n",
    "y_test = f(x_test)\n",
    "print(x_test)\n",
    "print(y_test)"
   ]
  },
  {
   "cell_type": "code",
   "execution_count": 3,
   "metadata": {
    "scrolled": true
   },
   "outputs": [
    {
     "name": "stdout",
     "output_type": "stream",
     "text": [
      "_________________________________________________________________\n",
      "Layer (type)                 Output Shape              Param #   \n",
      "=================================================================\n",
      "d1 (Dense)                   (None, 1)                 2         \n",
      "_________________________________________________________________\n",
      "sigmoid (Activation)         (None, 1)                 0         \n",
      "_________________________________________________________________\n",
      "d2 (Dense)                   (None, 1)                 2         \n",
      "=================================================================\n",
      "Total params: 4\n",
      "Trainable params: 4\n",
      "Non-trainable params: 0\n",
      "_________________________________________________________________\n",
      "Train on 819 samples, validate on 205 samples\n",
      "Epoch 1/100\n",
      "819/819 [==============================] - 3s 3ms/step - loss: 1.6170 - val_loss: 0.4500\n",
      "Epoch 2/100\n",
      "819/819 [==============================] - 0s 49us/step - loss: 0.3300 - val_loss: 0.2206\n",
      "Epoch 3/100\n",
      "819/819 [==============================] - 0s 50us/step - loss: 0.1608 - val_loss: 0.1096\n",
      "Epoch 4/100\n",
      "819/819 [==============================] - 0s 49us/step - loss: 0.0801 - val_loss: 0.0568\n",
      "Epoch 5/100\n",
      "819/819 [==============================] - 0s 45us/step - loss: 0.0418 - val_loss: 0.0319\n",
      "Epoch 6/100\n",
      "819/819 [==============================] - 0s 44us/step - loss: 0.0239 - val_loss: 0.0198\n",
      "Epoch 7/100\n",
      "819/819 [==============================] - 0s 46us/step - loss: 0.0151 - val_loss: 0.0137\n",
      "Epoch 8/100\n",
      "819/819 [==============================] - 0s 46us/step - loss: 0.0107 - val_loss: 0.0104\n",
      "Epoch 9/100\n",
      "819/819 [==============================] - 0s 44us/step - loss: 0.0083 - val_loss: 0.0084\n",
      "Epoch 10/100\n",
      "819/819 [==============================] - 0s 46us/step - loss: 0.0068 - val_loss: 0.0070\n",
      "Epoch 11/100\n",
      "819/819 [==============================] - 0s 45us/step - loss: 0.0057 - val_loss: 0.0060\n",
      "Epoch 12/100\n",
      "819/819 [==============================] - 0s 47us/step - loss: 0.0050 - val_loss: 0.0053\n",
      "Epoch 13/100\n",
      "819/819 [==============================] - 0s 46us/step - loss: 0.0044 - val_loss: 0.0046\n",
      "Epoch 14/100\n",
      "819/819 [==============================] - 0s 45us/step - loss: 0.0038 - val_loss: 0.0041\n",
      "Epoch 15/100\n",
      "819/819 [==============================] - 0s 43us/step - loss: 0.0034 - val_loss: 0.0036\n",
      "Epoch 16/100\n",
      "819/819 [==============================] - 0s 47us/step - loss: 0.0030 - val_loss: 0.0032\n",
      "Epoch 17/100\n",
      "819/819 [==============================] - 0s 47us/step - loss: 0.0027 - val_loss: 0.0029\n",
      "Epoch 18/100\n",
      "819/819 [==============================] - 0s 46us/step - loss: 0.0024 - val_loss: 0.0026\n",
      "Epoch 19/100\n",
      "819/819 [==============================] - 0s 45us/step - loss: 0.0022 - val_loss: 0.0023\n",
      "Epoch 20/100\n",
      "819/819 [==============================] - 0s 47us/step - loss: 0.0020 - val_loss: 0.0021\n",
      "Epoch 21/100\n",
      "819/819 [==============================] - 0s 46us/step - loss: 0.0018 - val_loss: 0.0019\n",
      "Epoch 22/100\n",
      "819/819 [==============================] - 0s 47us/step - loss: 0.0016 - val_loss: 0.0017\n",
      "Epoch 23/100\n",
      "819/819 [==============================] - 0s 45us/step - loss: 0.0015 - val_loss: 0.0016\n",
      "Epoch 24/100\n",
      "819/819 [==============================] - 0s 45us/step - loss: 0.0014 - val_loss: 0.0014\n",
      "Epoch 25/100\n",
      "819/819 [==============================] - 0s 44us/step - loss: 0.0013 - val_loss: 0.0013\n",
      "Epoch 26/100\n",
      "819/819 [==============================] - 0s 46us/step - loss: 0.0012 - val_loss: 0.0012\n",
      "Epoch 27/100\n",
      "819/819 [==============================] - 0s 45us/step - loss: 0.0011 - val_loss: 0.0011\n",
      "Epoch 28/100\n",
      "819/819 [==============================] - 0s 46us/step - loss: 0.0010 - val_loss: 0.0011\n",
      "Epoch 29/100\n",
      "819/819 [==============================] - 0s 47us/step - loss: 9.4126e-04 - val_loss: 9.7379e-04\n",
      "Epoch 30/100\n",
      "819/819 [==============================] - 0s 47us/step - loss: 8.8560e-04 - val_loss: 9.1676e-04\n",
      "Epoch 31/100\n",
      "819/819 [==============================] - 0s 44us/step - loss: 8.3073e-04 - val_loss: 8.5944e-04\n",
      "Epoch 32/100\n",
      "819/819 [==============================] - 0s 47us/step - loss: 7.8327e-04 - val_loss: 7.9976e-04\n",
      "Epoch 33/100\n",
      "819/819 [==============================] - 0s 46us/step - loss: 7.3824e-04 - val_loss: 7.5003e-04\n",
      "Epoch 34/100\n",
      "819/819 [==============================] - 0s 47us/step - loss: 6.9672e-04 - val_loss: 7.0774e-04\n",
      "Epoch 35/100\n",
      "819/819 [==============================] - 0s 50us/step - loss: 6.6094e-04 - val_loss: 6.6899e-04\n",
      "Epoch 36/100\n",
      "819/819 [==============================] - 0s 45us/step - loss: 6.2686e-04 - val_loss: 6.3536e-04\n",
      "Epoch 37/100\n",
      "819/819 [==============================] - 0s 47us/step - loss: 5.9526e-04 - val_loss: 5.9761e-04\n",
      "Epoch 38/100\n",
      "819/819 [==============================] - 0s 49us/step - loss: 5.6619e-04 - val_loss: 5.6922e-04\n",
      "Epoch 39/100\n",
      "819/819 [==============================] - 0s 46us/step - loss: 5.3901e-04 - val_loss: 5.4177e-04\n",
      "Epoch 40/100\n",
      "819/819 [==============================] - 0s 47us/step - loss: 5.1471e-04 - val_loss: 5.1203e-04\n",
      "Epoch 41/100\n",
      "819/819 [==============================] - 0s 45us/step - loss: 4.9015e-04 - val_loss: 4.8850e-04\n",
      "Epoch 42/100\n",
      "819/819 [==============================] - 0s 46us/step - loss: 4.6876e-04 - val_loss: 4.6558e-04\n",
      "Epoch 43/100\n",
      "819/819 [==============================] - 0s 47us/step - loss: 4.4741e-04 - val_loss: 4.4277e-04\n",
      "Epoch 44/100\n",
      "819/819 [==============================] - 0s 49us/step - loss: 4.2887e-04 - val_loss: 4.2250e-04\n",
      "Epoch 45/100\n",
      "819/819 [==============================] - 0s 45us/step - loss: 4.1040e-04 - val_loss: 4.0534e-04\n",
      "Epoch 46/100\n",
      "819/819 [==============================] - 0s 45us/step - loss: 3.9292e-04 - val_loss: 3.8677e-04\n",
      "Epoch 47/100\n",
      "819/819 [==============================] - 0s 45us/step - loss: 3.7764e-04 - val_loss: 3.7221e-04\n",
      "Epoch 48/100\n",
      "819/819 [==============================] - 0s 46us/step - loss: 3.6072e-04 - val_loss: 3.6244e-04\n",
      "Epoch 49/100\n",
      "819/819 [==============================] - 0s 47us/step - loss: 3.4814e-04 - val_loss: 3.3915e-04\n",
      "Epoch 50/100\n",
      "819/819 [==============================] - 0s 47us/step - loss: 3.3270e-04 - val_loss: 3.2579e-04\n",
      "Epoch 51/100\n",
      "819/819 [==============================] - 0s 47us/step - loss: 3.1942e-04 - val_loss: 3.1288e-04\n",
      "Epoch 52/100\n",
      "819/819 [==============================] - 0s 47us/step - loss: 3.0697e-04 - val_loss: 2.9846e-04\n",
      "Epoch 53/100\n",
      "819/819 [==============================] - 0s 46us/step - loss: 2.9598e-04 - val_loss: 2.8862e-04\n",
      "Epoch 54/100\n",
      "819/819 [==============================] - 0s 51us/step - loss: 2.8399e-04 - val_loss: 2.7530e-04\n",
      "Epoch 55/100\n",
      "819/819 [==============================] - 0s 50us/step - loss: 2.7314e-04 - val_loss: 2.6472e-04\n",
      "Epoch 56/100\n",
      "819/819 [==============================] - 0s 47us/step - loss: 2.6238e-04 - val_loss: 2.5436e-04\n",
      "Epoch 57/100\n",
      "819/819 [==============================] - 0s 47us/step - loss: 2.5232e-04 - val_loss: 2.4737e-04\n",
      "Epoch 58/100\n",
      "819/819 [==============================] - 0s 47us/step - loss: 2.4240e-04 - val_loss: 2.3460e-04\n",
      "Epoch 59/100\n",
      "819/819 [==============================] - 0s 47us/step - loss: 2.3367e-04 - val_loss: 2.2736e-04\n",
      "Epoch 60/100\n",
      "819/819 [==============================] - 0s 51us/step - loss: 2.2527e-04 - val_loss: 2.2023e-04\n",
      "Epoch 61/100\n",
      "819/819 [==============================] - 0s 49us/step - loss: 2.1680e-04 - val_loss: 2.1078e-04\n",
      "Epoch 62/100\n",
      "819/819 [==============================] - 0s 47us/step - loss: 2.0856e-04 - val_loss: 2.0387e-04\n",
      "Epoch 63/100\n",
      "819/819 [==============================] - 0s 46us/step - loss: 2.0130e-04 - val_loss: 1.9489e-04\n",
      "Epoch 64/100\n",
      "819/819 [==============================] - 0s 46us/step - loss: 1.9402e-04 - val_loss: 1.8722e-04\n",
      "Epoch 65/100\n",
      "819/819 [==============================] - 0s 49us/step - loss: 1.8711e-04 - val_loss: 1.7944e-04\n",
      "Epoch 66/100\n",
      "819/819 [==============================] - 0s 47us/step - loss: 1.8033e-04 - val_loss: 1.7335e-04\n",
      "Epoch 67/100\n",
      "819/819 [==============================] - 0s 49us/step - loss: 1.7385e-04 - val_loss: 1.6692e-04\n",
      "Epoch 68/100\n",
      "819/819 [==============================] - 0s 51us/step - loss: 1.6733e-04 - val_loss: 1.6200e-04\n",
      "Epoch 69/100\n",
      "819/819 [==============================] - 0s 47us/step - loss: 1.6162e-04 - val_loss: 1.5636e-04\n",
      "Epoch 70/100\n"
     ]
    },
    {
     "name": "stdout",
     "output_type": "stream",
     "text": [
      "819/819 [==============================] - 0s 49us/step - loss: 1.5523e-04 - val_loss: 1.5184e-04\n",
      "Epoch 71/100\n",
      "819/819 [==============================] - 0s 47us/step - loss: 1.5029e-04 - val_loss: 1.4398e-04\n",
      "Epoch 72/100\n",
      "819/819 [==============================] - 0s 45us/step - loss: 1.4467e-04 - val_loss: 1.3927e-04\n",
      "Epoch 73/100\n",
      "819/819 [==============================] - 0s 45us/step - loss: 1.3963e-04 - val_loss: 1.3441e-04\n",
      "Epoch 74/100\n",
      "819/819 [==============================] - 0s 45us/step - loss: 1.3466e-04 - val_loss: 1.3071e-04\n",
      "Epoch 75/100\n",
      "819/819 [==============================] - 0s 49us/step - loss: 1.2984e-04 - val_loss: 1.2509e-04\n",
      "Epoch 76/100\n",
      "819/819 [==============================] - 0s 47us/step - loss: 1.2528e-04 - val_loss: 1.1978e-04\n",
      "Epoch 77/100\n",
      "819/819 [==============================] - 0s 49us/step - loss: 1.2106e-04 - val_loss: 1.1672e-04\n",
      "Epoch 78/100\n",
      "819/819 [==============================] - 0s 45us/step - loss: 1.1675e-04 - val_loss: 1.1352e-04\n",
      "Epoch 79/100\n",
      "819/819 [==============================] - 0s 46us/step - loss: 1.1262e-04 - val_loss: 1.0761e-04\n",
      "Epoch 80/100\n",
      "819/819 [==============================] - 0s 49us/step - loss: 1.0918e-04 - val_loss: 1.0480e-04\n",
      "Epoch 81/100\n",
      "819/819 [==============================] - 0s 45us/step - loss: 1.0512e-04 - val_loss: 1.0082e-04\n",
      "Epoch 82/100\n",
      "819/819 [==============================] - 0s 46us/step - loss: 1.0139e-04 - val_loss: 9.7071e-05\n",
      "Epoch 83/100\n",
      "819/819 [==============================] - 0s 49us/step - loss: 9.8114e-05 - val_loss: 9.3966e-05\n",
      "Epoch 84/100\n",
      "819/819 [==============================] - 0s 46us/step - loss: 9.4741e-05 - val_loss: 9.0726e-05\n",
      "Epoch 85/100\n",
      "819/819 [==============================] - 0s 47us/step - loss: 9.1412e-05 - val_loss: 8.8561e-05\n",
      "Epoch 86/100\n",
      "819/819 [==============================] - 0s 45us/step - loss: 8.8447e-05 - val_loss: 8.5524e-05\n",
      "Epoch 87/100\n",
      "819/819 [==============================] - 0s 46us/step - loss: 8.5454e-05 - val_loss: 8.1865e-05\n",
      "Epoch 88/100\n",
      "819/819 [==============================] - 0s 47us/step - loss: 8.2414e-05 - val_loss: 8.0324e-05\n",
      "Epoch 89/100\n",
      "819/819 [==============================] - 0s 47us/step - loss: 7.9788e-05 - val_loss: 7.6906e-05\n",
      "Epoch 90/100\n",
      "819/819 [==============================] - 0s 46us/step - loss: 7.6819e-05 - val_loss: 7.3866e-05\n",
      "Epoch 91/100\n",
      "819/819 [==============================] - 0s 50us/step - loss: 7.4310e-05 - val_loss: 7.1769e-05\n",
      "Epoch 92/100\n",
      "819/819 [==============================] - 0s 45us/step - loss: 7.1895e-05 - val_loss: 6.9003e-05\n",
      "Epoch 93/100\n",
      "819/819 [==============================] - 0s 43us/step - loss: 6.9367e-05 - val_loss: 6.6218e-05\n",
      "Epoch 94/100\n",
      "819/819 [==============================] - 0s 44us/step - loss: 6.7105e-05 - val_loss: 6.4439e-05\n",
      "Epoch 95/100\n",
      "819/819 [==============================] - 0s 43us/step - loss: 6.4824e-05 - val_loss: 6.3498e-05\n",
      "Epoch 96/100\n",
      "819/819 [==============================] - 0s 44us/step - loss: 6.2949e-05 - val_loss: 6.0533e-05\n",
      "Epoch 97/100\n",
      "819/819 [==============================] - 0s 47us/step - loss: 6.0622e-05 - val_loss: 5.8269e-05\n",
      "Epoch 98/100\n",
      "819/819 [==============================] - 0s 49us/step - loss: 5.8668e-05 - val_loss: 5.5959e-05\n",
      "Epoch 99/100\n",
      "819/819 [==============================] - 0s 45us/step - loss: 5.6786e-05 - val_loss: 5.4476e-05\n",
      "Epoch 100/100\n",
      "819/819 [==============================] - 0s 46us/step - loss: 5.4913e-05 - val_loss: 5.2560e-05\n"
     ]
    }
   ],
   "source": [
    "model = keras.models.Sequential()\n",
    "model.add(keras.layers.Dense(1, name='d1', input_dim=1))\n",
    "model.add(keras.layers.Activation('sigmoid', name='sigmoid'))\n",
    "model.add(keras.layers.Dense(1, name='d2'))\n",
    "\n",
    "model.summary()\n",
    "sgd = keras.optimizers.SGD(lr=0.05)\n",
    "model.compile(sgd, 'mse')\n",
    "hist = model.fit(x_train, y_train, batch_size=32, epochs=100, validation_split=0.2)"
   ]
  },
  {
   "cell_type": "code",
   "execution_count": 8,
   "metadata": {},
   "outputs": [
    {
     "data": {
      "text/plain": [
       "<matplotlib.legend.Legend at 0x202ec91b588>"
      ]
     },
     "execution_count": 8,
     "metadata": {},
     "output_type": "execute_result"
    },
    {
     "data": {
      "image/png": "[encoded data removed]",
      "text/plain": [
       "<Figure size 432x288 with 1 Axes>"
      ]
     },
     "metadata": {
      "needs_background": "light"
     },
     "output_type": "display_data"
    }
   ],
   "source": [
    "plt.plot(hist.history['loss'][10:], label='loss')\n",
    "plt.plot(hist.history['val_loss'][10:], label='val_loss')\n",
    "plt.xlabel('epoch')\n",
    "plt.ylabel('loss')\n",
    "plt.legend(loc=0)"
   ]
  },
  {
   "cell_type": "code",
   "execution_count": 9,
   "metadata": {},
   "outputs": [
    {
     "name": "stdout",
     "output_type": "stream",
     "text": [
      "y_pred\n",
      "[[1.0368849]\n",
      " [1.2490577]\n",
      " [1.9944959]\n",
      " [2.7469583]\n",
      " [2.9637294]]\n",
      "y_test\n",
      "[[1.03597242]\n",
      " [1.23840584]\n",
      " [2.        ]\n",
      " [2.76159416]\n",
      " [2.96402758]]\n"
     ]
    }
   ],
   "source": [
    "y_pred = model.predict(x_test)\n",
    "print('y_pred'); print(y_pred)\n",
    "print('y_test'); print(y_test)"
   ]
  },
  {
   "cell_type": "code",
   "execution_count": 10,
   "metadata": {},
   "outputs": [
    {
     "name": "stdout",
     "output_type": "stream",
     "text": [
      "d1_weights\n",
      "[array([[-1.9225469]], dtype=float32), array([-0.94868225], dtype=float32)]\n",
      "d2_weights\n",
      "[array([[-2.0110605]], dtype=float32), array([3.0063565], dtype=float32)]\n"
     ]
    }
   ],
   "source": [
    "d1_weights = model.get_layer('d1').get_weights()\n",
    "d2_weights = model.get_layer('d2').get_weights()\n",
    "\n",
    "print('d1_weights'); print(d1_weights)   # (2,1) 또는 (-2,-1)\n",
    "print('d2_weights'); print(d2_weights)   # (2,1) 또는 (-2,3)"
   ]
  },
  {
   "cell_type": "code",
   "execution_count": null,
   "metadata": {},
   "outputs": [],
   "source": []
  }
 ],
 "metadata": {
  "kernelspec": {
   "display_name": "Python 3",
   "language": "python",
   "name": "python3"
  },
  "language_info": {
   "codemirror_mode": {
    "name": "ipython",
    "version": 3
   },
   "file_extension": ".py",
   "mimetype": "text/x-python",
   "name": "python",
   "nbconvert_exporter": "python",
   "pygments_lexer": "ipython3",
   "version": "3.7.3"
  }
 },
 "nbformat": 4,
 "nbformat_minor": 2
}
