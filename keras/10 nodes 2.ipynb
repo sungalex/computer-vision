{
 "cells": [
  {
   "cell_type": "markdown",
   "metadata": {},
   "source": [
    "여러개의 텐서가 하나로 합쳐질 때 노드의 구조에 대해 알아 봅시다."
   ]
  },
  {
   "cell_type": "code",
   "execution_count": 1,
   "metadata": {},
   "outputs": [
    {
     "name": "stderr",
     "output_type": "stream",
     "text": [
      "Using TensorFlow backend.\n"
     ]
    },
    {
     "name": "stdout",
     "output_type": "stream",
     "text": [
      "h._inbound_nodes\n",
      " []\n",
      "h._outbound_nodes\n",
      " []\n"
     ]
    }
   ],
   "source": [
    "from keras import layers, models\n",
    "\n",
    "x = layers.Input((1,), name='x')\n",
    "y = layers.Input((1,), name='y')\n",
    "h = layers.Add(name='h')\n",
    "a = layers.Dense(1, name='a')\n",
    "b = layers.Dense(1, name='b')\n",
    "\n",
    "print('h._inbound_nodes\\n', h._inbound_nodes)\n",
    "print('h._outbound_nodes\\n', h._outbound_nodes)"
   ]
  },
  {
   "cell_type": "code",
   "execution_count": 2,
   "metadata": {},
   "outputs": [],
   "source": [
    "hxy = h([x, y])"
   ]
  },
  {
   "cell_type": "markdown",
   "metadata": {},
   "source": [
    "두개의 텐서가 h 에 들어오지만 h 의 inbound node 는 하나가 생기고 그 노드의 입력 텐서가 두개 출력 텐서가 하나인것을 알 수 있습니다."
   ]
  },
  {
   "cell_type": "code",
   "execution_count": 3,
   "metadata": {},
   "outputs": [
    {
     "name": "stdout",
     "output_type": "stream",
     "text": [
      "h._inbound_nodes\n",
      " [<keras.engine.base_layer.Node object at 0x000002AB4B0C60F0>] \n",
      "\n",
      "h._inbound_nodes[0].input_tensors\n",
      " [<tf.Tensor 'x:0' shape=(?, 1) dtype=float32>, <tf.Tensor 'y:0' shape=(?, 1) dtype=float32>] \n",
      "\n",
      "h._inbound_nodes[0].output_tensors\n",
      " [<tf.Tensor 'h/add:0' shape=(?, 1) dtype=float32>]\n"
     ]
    }
   ],
   "source": [
    "print('h._inbound_nodes\\n', h._inbound_nodes, '\\n')\n",
    "print('h._inbound_nodes[0].input_tensors\\n', h._inbound_nodes[0].input_tensors, '\\n')\n",
    "print('h._inbound_nodes[0].output_tensors\\n', h._inbound_nodes[0].output_tensors)"
   ]
  },
  {
   "cell_type": "code",
   "execution_count": 4,
   "metadata": {},
   "outputs": [],
   "source": [
    "ahxy = a(hxy)\n",
    "bhxy = b(hxy)"
   ]
  },
  {
   "cell_type": "code",
   "execution_count": 5,
   "metadata": {
    "scrolled": true
   },
   "outputs": [
    {
     "name": "stdout",
     "output_type": "stream",
     "text": [
      "h._outbound_nodes\n",
      " [<keras.engine.base_layer.Node object at 0x000002AB7BC2D588>, <keras.engine.base_layer.Node object at 0x000002AB7CE90DA0>] \n",
      "\n",
      "a._inbound_nodes\n",
      " [<keras.engine.base_layer.Node object at 0x000002AB7BC2D588>] \n",
      "\n",
      "b._inbound_nodes\n",
      " [<keras.engine.base_layer.Node object at 0x000002AB7CE90DA0>]\n"
     ]
    }
   ],
   "source": [
    "print('h._outbound_nodes\\n', h._outbound_nodes, '\\n')\n",
    "print('a._inbound_nodes\\n', a._inbound_nodes, '\\n')\n",
    "print('b._inbound_nodes\\n', b._inbound_nodes)"
   ]
  },
  {
   "cell_type": "code",
   "execution_count": 6,
   "metadata": {},
   "outputs": [
    {
     "name": "stdout",
     "output_type": "stream",
     "text": [
      "__________________________________________________________________________________________________\n",
      "Layer (type)                    Output Shape         Param #     Connected to                     \n",
      "==================================================================================================\n",
      "x (InputLayer)                  (None, 1)            0                                            \n",
      "__________________________________________________________________________________________________\n",
      "y (InputLayer)                  (None, 1)            0                                            \n",
      "__________________________________________________________________________________________________\n",
      "h (Add)                         (None, 1)            0           x[0][0]                          \n",
      "                                                                 y[0][0]                          \n",
      "__________________________________________________________________________________________________\n",
      "a (Dense)                       (None, 1)            2           h[0][0]                          \n",
      "__________________________________________________________________________________________________\n",
      "b (Dense)                       (None, 1)            2           h[0][0]                          \n",
      "==================================================================================================\n",
      "Total params: 4\n",
      "Trainable params: 4\n",
      "Non-trainable params: 0\n",
      "__________________________________________________________________________________________________\n"
     ]
    }
   ],
   "source": [
    "model = models.Model([x, y], [ahxy, bhxy])\n",
    "model.summary()"
   ]
  }
 ],
 "metadata": {
  "kernelspec": {
   "display_name": "Python 3",
   "language": "python",
   "name": "python3"
  },
  "language_info": {
   "codemirror_mode": {
    "name": "ipython",
    "version": 3
   },
   "file_extension": ".py",
   "mimetype": "text/x-python",
   "name": "python",
   "nbconvert_exporter": "python",
   "pygments_lexer": "ipython3",
   "version": "3.7.3"
  }
 },
 "nbformat": 4,
 "nbformat_minor": 2
}
