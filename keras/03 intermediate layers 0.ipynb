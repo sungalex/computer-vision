{
 "cells": [
  {
   "cell_type": "code",
   "execution_count": 1,
   "metadata": {
    "scrolled": false
   },
   "outputs": [
    {
     "name": "stderr",
     "output_type": "stream",
     "text": [
      "Using TensorFlow backend.\n"
     ]
    },
    {
     "name": "stdout",
     "output_type": "stream",
     "text": [
      "x_train:\n",
      " [[0]\n",
      " [1]]\n",
      "y_train:\n",
      " [[1]\n",
      " [3]]\n",
      "x_test:\n",
      " [[2]\n",
      " [3]]\n",
      "y_test:\n",
      " [[5]\n",
      " [7]]\n",
      "_________________________________________________________________\n",
      "Layer (type)                 Output Shape              Param #   \n",
      "=================================================================\n",
      "x (InputLayer)               (None, 1)                 0         \n",
      "_________________________________________________________________\n",
      "hidden (Dense)               (None, 2)                 4         \n",
      "_________________________________________________________________\n",
      "y (Dense)                    (None, 1)                 3         \n",
      "=================================================================\n",
      "Total params: 7\n",
      "Trainable params: 7\n",
      "Non-trainable params: 0\n",
      "_________________________________________________________________\n",
      "y_predict\n",
      "[[4.999996 ]\n",
      " [6.9999943]]\n",
      "y_test\n",
      "[[5]\n",
      " [7]]\n"
     ]
    }
   ],
   "source": [
    "# 1->2->1 네크워브에서 중간층의 출력 확인하기\n",
    "import keras\n",
    "import numpy as np\n",
    "\n",
    "from keras.layers import Dense, Input\n",
    "from keras.models import Model\n",
    "\n",
    "x_train = np.array([[0],[1]])\n",
    "y_train = x_train * 2 + 1\n",
    "print('x_train:\\n', x_train)\n",
    "print('y_train:\\n', y_train)\n",
    "\n",
    "x_test = np.array([[2],[3]])\n",
    "y_test = x_test * 2 + 1\n",
    "print('x_test:\\n', x_test)\n",
    "print('y_test:\\n', y_test)\n",
    "\n",
    "x = Input(shape=(1,), name='x')   # layer 이름 지정하기(option)\n",
    "h_layer = Dense(2, name='hidden')(x)\n",
    "y = Dense(1, name='y')(h_layer)\n",
    "\n",
    "model = Model(inputs=x, outputs=y)\n",
    "model.summary()\n",
    "\n",
    "model.compile('SGD', 'mse')\n",
    "history = model.fit(x_train, y_train, batch_size=2, epochs=1000, verbose=0)\n",
    "\n",
    "y_predict = model.predict(x_test)\n",
    "print('y_predict'); print(y_predict)\n",
    "print('y_test'); print(y_test)"
   ]
  },
  {
   "cell_type": "code",
   "execution_count": 2,
   "metadata": {},
   "outputs": [
    {
     "name": "stdout",
     "output_type": "stream",
     "text": [
      "_________________________________________________________________\n",
      "Layer (type)                 Output Shape              Param #   \n",
      "=================================================================\n",
      "x (InputLayer)               (None, 1)                 0         \n",
      "_________________________________________________________________\n",
      "hidden (Dense)               (None, 2)                 4         \n",
      "=================================================================\n",
      "Total params: 4\n",
      "Trainable params: 4\n",
      "Non-trainable params: 0\n",
      "_________________________________________________________________\n",
      "h\n",
      "[[0.13101315 2.7197313 ]\n",
      " [0.34620306 3.944419  ]]\n",
      "y\n",
      "[[4.999996 ]\n",
      " [6.9999943]]\n"
     ]
    },
    {
     "data": {
      "text/plain": [
       "(None, None)"
      ]
     },
     "execution_count": 2,
     "metadata": {},
     "output_type": "execute_result"
    }
   ],
   "source": [
    "# 중간층을 확인하기 위한 모델 만들기\n",
    "model_h = Model(inputs=x, outputs=h_layer)    # outputs을 중간층의 layer로 지정\n",
    "model_h.summary()\n",
    "\n",
    "print('h'), print(model_h.predict(x_test))\n",
    "print('y'), print(model.predict(x_test))"
   ]
  },
  {
   "cell_type": "code",
   "execution_count": 4,
   "metadata": {},
   "outputs": [
    {
     "name": "stdout",
     "output_type": "stream",
     "text": [
      "h\n",
      "[[0.13101315 2.7197313 ]\n",
      " [0.34620306 3.944419  ]]\n",
      "y\n",
      "[[4.999996 ]\n",
      " [6.9999943]]\n"
     ]
    },
    {
     "data": {
      "text/plain": [
       "(None, None)"
      ]
     },
     "execution_count": 4,
     "metadata": {},
     "output_type": "execute_result"
    }
   ],
   "source": [
    "# Sequential model인 경우의 중간층 모델 확인하기\n",
    "layer_h = model.get_layer('hidden')   # 모델에 정의한 layer 이름\n",
    "model_h = Model(inputs=model.input, outputs=layer_h.output)\n",
    "\n",
    "print('h'), print(model_h.predict(x_test))\n",
    "print('y'), print(model.predict(x_test))"
   ]
  },
  {
   "cell_type": "code",
   "execution_count": 5,
   "metadata": {},
   "outputs": [
    {
     "name": "stdout",
     "output_type": "stream",
     "text": [
      "h\n",
      "[[0.13101315 2.7197313 ]\n",
      " [0.34620306 3.944419  ]]\n",
      "y\n",
      "[[4.999996 ]\n",
      " [6.9999943]]\n"
     ]
    },
    {
     "data": {
      "text/plain": [
       "(None, None)"
      ]
     },
     "execution_count": 5,
     "metadata": {},
     "output_type": "execute_result"
    }
   ],
   "source": [
    "# 모델의 이름을 명시하지 않은 경우 중간층 모델 확인하기\n",
    "layer_h = model.get_layer(index=1)   # 모델의 index 사용\n",
    "model_h = Model(inputs=model.input, outputs=layer_h.output)\n",
    "\n",
    "print('h'), print(model_h.predict(x_test))\n",
    "print('y'), print(model.predict(x_test))"
   ]
  },
  {
   "cell_type": "code",
   "execution_count": null,
   "metadata": {},
   "outputs": [],
   "source": []
  }
 ],
 "metadata": {
  "kernelspec": {
   "display_name": "Python 3",
   "language": "python",
   "name": "python3"
  },
  "language_info": {
   "codemirror_mode": {
    "name": "ipython",
    "version": 3
   },
   "file_extension": ".py",
   "mimetype": "text/x-python",
   "name": "python",
   "nbconvert_exporter": "python",
   "pygments_lexer": "ipython3",
   "version": "3.7.3"
  }
 },
 "nbformat": 4,
 "nbformat_minor": 2
}
