{
 "cells": [
  {
<<<<<<< HEAD
   "cell_type": "markdown",
   "metadata": {},
   "source": [
    "학습할 파라메터없이 입력을 받아 함수를 사용해 출력해주는 Lambda layer 에 대해 공부해보겠습니다."
   ]
  },
  {
=======
>>>>>>> 5c39790a2b66c52fc3aaf10f2dfe99019e0db345
   "cell_type": "code",
   "execution_count": 1,
   "metadata": {},
   "outputs": [
    {
     "name": "stderr",
     "output_type": "stream",
     "text": [
      "Using TensorFlow backend.\n"
     ]
    }
   ],
   "source": [
    "from keras import layers, models\n",
<<<<<<< HEAD
    "import keras.backend as K\n",
=======
    "import keras.backend as K    # keras backend common functions\n",
>>>>>>> 5c39790a2b66c52fc3aaf10f2dfe99019e0db345
    "import numpy as np\n",
    "\n",
    "x_test = np.array([[1,2,3], [4,5,6]])\n",
    "x = layers.Input(shape=(3,))"
   ]
  },
  {
<<<<<<< HEAD
   "cell_type": "markdown",
   "metadata": {},
   "source": [
    "모델 summary 를 보면 Lambda 층에는 학습할 파라메터가 없는것을 알 수 있습니다."
   ]
  },
  {
=======
>>>>>>> 5c39790a2b66c52fc3aaf10f2dfe99019e0db345
   "cell_type": "code",
   "execution_count": 2,
   "metadata": {},
   "outputs": [
    {
     "name": "stdout",
     "output_type": "stream",
     "text": [
      "_________________________________________________________________\n",
      "Layer (type)                 Output Shape              Param #   \n",
      "=================================================================\n",
      "input_1 (InputLayer)         (None, 3)                 0         \n",
      "_________________________________________________________________\n",
      "lambda_1 (Lambda)            (None, 3)                 0         \n",
      "=================================================================\n",
      "Total params: 0\n",
      "Trainable params: 0\n",
      "Non-trainable params: 0\n",
      "_________________________________________________________________\n",
<<<<<<< HEAD
      "x_test\n",
      "[[1 2 3]\n",
      " [4 5 6]]\n",
      "y_pred\n",
      "[[ 2.  4.  6.]\n",
=======
      "x_test:\n",
      " [[1 2 3]\n",
      " [4 5 6]]\n",
      "y_pred:\n",
      " [[ 2.  4.  6.]\n",
>>>>>>> 5c39790a2b66c52fc3aaf10f2dfe99019e0db345
      " [ 8. 10. 12.]]\n"
     ]
    }
   ],
   "source": [
    "def func(x):\n",
    "    return x * 2\n",
    "\n",
    "y = layers.Lambda(func)(x)\n",
    "model = models.Model(x, y)\n",
    "model.summary()\n",
<<<<<<< HEAD
    "y_pred = model.predict(x_test)\n",
    "print('x_test'); print(x_test)\n",
    "print('y_pred'); print(y_pred)"
   ]
  },
  {
   "cell_type": "markdown",
   "metadata": {},
   "source": [
    "간단한 한줄함수는 아래와 같이 lambda 함수를 넣어줄 수 있습니다."
=======
    "\n",
    "y_pred = model.predict(x_test)\n",
    "print('x_test:\\n', x_test)\n",
    "print('y_pred:\\n', y_pred)"
>>>>>>> 5c39790a2b66c52fc3aaf10f2dfe99019e0db345
   ]
  },
  {
   "cell_type": "code",
   "execution_count": 3,
<<<<<<< HEAD
   "metadata": {
    "scrolled": true
   },
=======
   "metadata": {},
>>>>>>> 5c39790a2b66c52fc3aaf10f2dfe99019e0db345
   "outputs": [
    {
     "name": "stdout",
     "output_type": "stream",
     "text": [
      "_________________________________________________________________\n",
      "Layer (type)                 Output Shape              Param #   \n",
      "=================================================================\n",
      "input_1 (InputLayer)         (None, 3)                 0         \n",
      "_________________________________________________________________\n",
      "lambda_2 (Lambda)            (None, 3)                 0         \n",
      "=================================================================\n",
      "Total params: 0\n",
      "Trainable params: 0\n",
      "Non-trainable params: 0\n",
      "_________________________________________________________________\n",
<<<<<<< HEAD
      "x_test\n",
      "[[1 2 3]\n",
      " [4 5 6]]\n",
      "y_pred\n",
      "[[ 1.  4.  9.]\n",
=======
      "x_test:\n",
      " [[1 2 3]\n",
      " [4 5 6]]\n",
      "y_pred:\n",
      " [[ 1.  4.  9.]\n",
>>>>>>> 5c39790a2b66c52fc3aaf10f2dfe99019e0db345
      " [16. 25. 36.]]\n"
     ]
    }
   ],
   "source": [
<<<<<<< HEAD
    "y = layers.Lambda(lambda x: x**2)(x)\n",
    "model = models.Model(x, y)\n",
    "model.summary()\n",
    "y_pred = model.predict(x_test)\n",
    "print('x_test'); print(x_test)\n",
    "print('y_pred'); print(y_pred)"
   ]
  },
  {
   "cell_type": "markdown",
   "metadata": {},
   "source": [
    "아래와 같이 람다 레이어 안에서 K.sum 같은 keras.backend 함수를 사용할 수도 있습니다."
=======
    "y = layers.Lambda(lambda x: x ** 2)(x)\n",
    "model = models.Model(x, y)\n",
    "model.summary()\n",
    "\n",
    "y_pred = model.predict(x_test)\n",
    "print('x_test:\\n', x_test)\n",
    "print('y_pred:\\n', y_pred)"
>>>>>>> 5c39790a2b66c52fc3aaf10f2dfe99019e0db345
   ]
  },
  {
   "cell_type": "code",
   "execution_count": 4,
<<<<<<< HEAD
   "metadata": {
    "scrolled": false
   },
=======
   "metadata": {},
>>>>>>> 5c39790a2b66c52fc3aaf10f2dfe99019e0db345
   "outputs": [
    {
     "name": "stdout",
     "output_type": "stream",
     "text": [
      "_________________________________________________________________\n",
      "Layer (type)                 Output Shape              Param #   \n",
      "=================================================================\n",
      "input_1 (InputLayer)         (None, 3)                 0         \n",
      "_________________________________________________________________\n",
      "lambda_3 (Lambda)            (None, 1)                 0         \n",
      "=================================================================\n",
      "Total params: 0\n",
      "Trainable params: 0\n",
      "Non-trainable params: 0\n",
      "_________________________________________________________________\n",
<<<<<<< HEAD
      "x_test\n",
      "[[1 2 3]\n",
      " [4 5 6]]\n",
      "y_pred\n",
      "[[ 6.]\n",
=======
      "x_test:\n",
      " [[1 2 3]\n",
      " [4 5 6]]\n",
      "y_pred:\n",
      " [[ 6.]\n",
>>>>>>> 5c39790a2b66c52fc3aaf10f2dfe99019e0db345
      " [15.]]\n"
     ]
    }
   ],
   "source": [
    "def func(x):\n",
    "    # axis 0 is the batch dimension\n",
    "    return K.sum(x, axis=1, keepdims=True)\n",
    "\n",
    "y = layers.Lambda(func)(x)\n",
    "model = models.Model(x, y)\n",
    "model.summary()\n",
<<<<<<< HEAD
    "y_pred = model.predict(x_test)\n",
    "print('x_test'); print(x_test)\n",
    "print('y_pred'); print(y_pred)"
   ]
  },
  {
   "cell_type": "markdown",
   "metadata": {},
   "source": [
    "조건에 따라 다르게 계산하려면 Python 의 조건문 대신 backend.switch 함수를 사용합니다."
=======
    "\n",
    "y_pred = model.predict(x_test)\n",
    "print('x_test:\\n', x_test)\n",
    "print('y_pred:\\n', y_pred)"
   ]
  },
  {
   "cell_type": "code",
   "execution_count": 5,
   "metadata": {},
   "outputs": [
    {
     "name": "stdout",
     "output_type": "stream",
     "text": [
      "_________________________________________________________________\n",
      "Layer (type)                 Output Shape              Param #   \n",
      "=================================================================\n",
      "input_1 (InputLayer)         (None, 3)                 0         \n",
      "_________________________________________________________________\n",
      "lambda_4 (Lambda)            (None,)                   0         \n",
      "=================================================================\n",
      "Total params: 0\n",
      "Trainable params: 0\n",
      "Non-trainable params: 0\n",
      "_________________________________________________________________\n",
      "x_test:\n",
      " [[1 2 3]\n",
      " [4 5 6]]\n",
      "y_pred:\n",
      " [ 6. 15.]\n"
     ]
    }
   ],
   "source": [
    "def func(x):\n",
    "    # axis 0 is the batch dimension\n",
    "    return K.sum(x, axis=1, keepdims=False)\n",
    "\n",
    "y = layers.Lambda(func)(x)\n",
    "model = models.Model(x, y)\n",
    "model.summary()\n",
    "\n",
    "y_pred = model.predict(x_test)\n",
    "print('x_test:\\n', x_test)\n",
    "print('y_pred:\\n', y_pred)"
>>>>>>> 5c39790a2b66c52fc3aaf10f2dfe99019e0db345
   ]
  },
  {
   "cell_type": "code",
<<<<<<< HEAD
   "execution_count": 5,
   "metadata": {
    "scrolled": false
   },
=======
   "execution_count": 9,
   "metadata": {},
>>>>>>> 5c39790a2b66c52fc3aaf10f2dfe99019e0db345
   "outputs": [
    {
     "name": "stdout",
     "output_type": "stream",
     "text": [
      "_________________________________________________________________\n",
      "Layer (type)                 Output Shape              Param #   \n",
      "=================================================================\n",
      "input_1 (InputLayer)         (None, 3)                 0         \n",
      "_________________________________________________________________\n",
<<<<<<< HEAD
      "lambda_4 (Lambda)            (None, 3)                 0         \n",
=======
      "lambda_8 (Lambda)            (None, 3)                 0         \n",
>>>>>>> 5c39790a2b66c52fc3aaf10f2dfe99019e0db345
      "=================================================================\n",
      "Total params: 0\n",
      "Trainable params: 0\n",
      "Non-trainable params: 0\n",
      "_________________________________________________________________\n",
<<<<<<< HEAD
      "x_test\n",
      "[[1 2 3]\n",
      " [4 5 6]]\n",
      "y_pred\n",
      "[[1. 2. 3.]\n",
=======
      "x_test:\n",
      " [[1 2 3]\n",
      " [4 5 6]]\n",
      "y_pred:\n",
      " [[1. 2. 3.]\n",
>>>>>>> 5c39790a2b66c52fc3aaf10f2dfe99019e0db345
      " [4. 4. 4.]]\n"
     ]
    }
   ],
   "source": [
<<<<<<< HEAD
    "#y = layers.Lambda(lambda x: 4 if x>4 else x)(x) does not work\n",
    "y = layers.Lambda(lambda x: K.switch(x>4, 4*K.ones_like(x), x))(x)\n",
    "model = models.Model(x, y)\n",
    "model.summary()\n",
    "y_pred = model.predict(x_test)\n",
    "print('x_test'); print(x_test)\n",
    "print('y_pred'); print(y_pred)"
   ]
  },
  {
   "cell_type": "markdown",
   "metadata": {},
   "source": [
    "아래와 같이 리스트 형식으로 여러개의 텐서를 출력할 수 있습니다."
=======
    "# y = layers.Lambda(lambda x: 4 if x > 4 else x)(x)    # python if condition does not work\n",
    "y = layers.Lambda(lambda x: K.switch(x>4, K.ones_like(x) * 4, x))(x)\n",
    "model = models.Model(x, y)\n",
    "model.summary()\n",
    "\n",
    "y_pred = model.predict(x_test)\n",
    "print('x_test:\\n', x_test)\n",
    "print('y_pred:\\n', y_pred)"
   ]
  },
  {
   "cell_type": "code",
   "execution_count": 10,
   "metadata": {},
   "outputs": [
    {
     "name": "stdout",
     "output_type": "stream",
     "text": [
      "_________________________________________________________________\n",
      "Layer (type)                 Output Shape              Param #   \n",
      "=================================================================\n",
      "input_1 (InputLayer)         (None, 3)                 0         \n",
      "_________________________________________________________________\n",
      "lambda_9 (Lambda)            [(None, 3), (None, 3)]    0         \n",
      "=================================================================\n",
      "Total params: 0\n",
      "Trainable params: 0\n",
      "Non-trainable params: 0\n",
      "_________________________________________________________________\n",
      "x_test:\n",
      " [[1 2 3]\n",
      " [4 5 6]]\n",
      "y_pred:\n",
      " [array([[0.5, 1. , 1.5],\n",
      "       [2. , 2.5, 3. ]], dtype=float32), array([[ 2.,  4.,  6.],\n",
      "       [ 8., 10., 12.]], dtype=float32)]\n"
     ]
    }
   ],
   "source": [
    "y = layers.Lambda(lambda x: [x/2, x*2])(x)\n",
    "model = models.Model(x, y)\n",
    "model.summary()\n",
    "\n",
    "y_pred = model.predict(x_test)\n",
    "print('x_test:\\n', x_test)\n",
    "print('y_pred:\\n', y_pred)"
>>>>>>> 5c39790a2b66c52fc3aaf10f2dfe99019e0db345
   ]
  },
  {
   "cell_type": "code",
<<<<<<< HEAD
   "execution_count": 6,
   "metadata": {
    "scrolled": true
   },
=======
   "execution_count": 12,
   "metadata": {},
>>>>>>> 5c39790a2b66c52fc3aaf10f2dfe99019e0db345
   "outputs": [
    {
     "name": "stdout",
     "output_type": "stream",
     "text": [
      "_________________________________________________________________\n",
      "Layer (type)                 Output Shape              Param #   \n",
      "=================================================================\n",
      "input_1 (InputLayer)         (None, 3)                 0         \n",
      "_________________________________________________________________\n",
<<<<<<< HEAD
      "lambda_5 (Lambda)            [(None, 3), (None, 3)]    0         \n",
=======
      "lambda_11 (Lambda)           [(None, 3), (None, 3)]    0         \n",
>>>>>>> 5c39790a2b66c52fc3aaf10f2dfe99019e0db345
      "=================================================================\n",
      "Total params: 0\n",
      "Trainable params: 0\n",
      "Non-trainable params: 0\n",
      "_________________________________________________________________\n",
<<<<<<< HEAD
      "x_test\n",
      "[[1 2 3]\n",
      " [4 5 6]]\n",
      "y_pred_A\n",
      "[[0.5 1.  1.5]\n",
      " [2.  2.5 3. ]]\n",
      "y_pred_B\n",
      "[[ 2.  4.  6.]\n",
=======
      "x_test:\n",
      " [[1 2 3]\n",
      " [4 5 6]]\n",
      "y_pred_A:\n",
      " [[0.5 1.  1.5]\n",
      " [2.  2.5 3. ]]\n",
      "y_pred_B:\n",
      " [[ 2.  4.  6.]\n",
>>>>>>> 5c39790a2b66c52fc3aaf10f2dfe99019e0db345
      " [ 8. 10. 12.]]\n"
     ]
    }
   ],
   "source": [
<<<<<<< HEAD
    "y_A, y_B = layers.Lambda(lambda x: [x/2, x*2])(x)\n",
    "model = models.Model(x, [y_A, y_B])\n",
    "model.summary()\n",
    "y_pred_A, y_pred_B = model.predict(x_test)\n",
    "print('x_test'); print(x_test)\n",
    "print('y_pred_A'); print(y_pred_A)\n",
    "print('y_pred_B'); print(y_pred_B)"
   ]
  },
  {
   "cell_type": "markdown",
   "metadata": {},
   "source": [
    "아래와 같이 입력 텐서를 여러 텐서로 나누어 출력할 수 있습니다."
=======
    "yA, yB = layers.Lambda(lambda x: [x/2, x*2])(x)\n",
    "model = models.Model(x, [yA, yB])\n",
    "model.summary()\n",
    "\n",
    "y_pred_A, y_pred_B = model.predict(x_test)\n",
    "print('x_test:\\n', x_test)\n",
    "print('y_pred_A:\\n', y_pred_A)\n",
    "print('y_pred_B:\\n', y_pred_B)"
>>>>>>> 5c39790a2b66c52fc3aaf10f2dfe99019e0db345
   ]
  },
  {
   "cell_type": "code",
<<<<<<< HEAD
   "execution_count": 7,
=======
   "execution_count": 13,
>>>>>>> 5c39790a2b66c52fc3aaf10f2dfe99019e0db345
   "metadata": {},
   "outputs": [
    {
     "name": "stdout",
     "output_type": "stream",
     "text": [
      "_________________________________________________________________\n",
      "Layer (type)                 Output Shape              Param #   \n",
      "=================================================================\n",
      "input_1 (InputLayer)         (None, 3)                 0         \n",
      "_________________________________________________________________\n",
<<<<<<< HEAD
      "lambda_6 (Lambda)            [(None, 2), (None, 1)]    0         \n",
=======
      "lambda_12 (Lambda)           [(None, 2), (None, 1)]    0         \n",
>>>>>>> 5c39790a2b66c52fc3aaf10f2dfe99019e0db345
      "=================================================================\n",
      "Total params: 0\n",
      "Trainable params: 0\n",
      "Non-trainable params: 0\n",
      "_________________________________________________________________\n",
<<<<<<< HEAD
      "x_test\n",
      "[[1 2 3]\n",
      " [4 5 6]]\n",
      "y_pred_A\n",
      "[[1. 2.]\n",
      " [4. 5.]]\n",
      "y_pred_B\n",
      "[[3.]\n",
=======
      "x_test:\n",
      " [[1 2 3]\n",
      " [4 5 6]]\n",
      "y_pred_A:\n",
      " [[1. 2.]\n",
      " [4. 5.]]\n",
      "y_pred_B:\n",
      " [[3.]\n",
>>>>>>> 5c39790a2b66c52fc3aaf10f2dfe99019e0db345
      " [6.]]\n"
     ]
    }
   ],
   "source": [
<<<<<<< HEAD
    "y = layers.Lambda(lambda x: [x[:,0:2], x[:,2:]])(x)\n",
    "model = models.Model(x, y)\n",
    "model.summary()\n",
    "y_pred_A, y_pred_B = model.predict(x_test)\n",
    "print('x_test'); print(x_test)\n",
    "print('y_pred_A'); print(y_pred_A)\n",
    "print('y_pred_B'); print(y_pred_B)"
   ]
=======
    "yA, yB = layers.Lambda(lambda x: [x[:,:2], x[:,2:]])(x)\n",
    "model = models.Model(x, [yA, yB])\n",
    "model.summary()\n",
    "\n",
    "y_pred_A, y_pred_B = model.predict(x_test)\n",
    "print('x_test:\\n', x_test)\n",
    "print('y_pred_A:\\n', y_pred_A)\n",
    "print('y_pred_B:\\n', y_pred_B)"
   ]
  },
  {
   "cell_type": "code",
   "execution_count": null,
   "metadata": {},
   "outputs": [],
   "source": []
>>>>>>> 5c39790a2b66c52fc3aaf10f2dfe99019e0db345
  }
 ],
 "metadata": {
  "kernelspec": {
   "display_name": "Python 3",
   "language": "python",
   "name": "python3"
  },
  "language_info": {
   "codemirror_mode": {
    "name": "ipython",
    "version": 3
   },
   "file_extension": ".py",
   "mimetype": "text/x-python",
   "name": "python",
   "nbconvert_exporter": "python",
   "pygments_lexer": "ipython3",
   "version": "3.7.3"
  }
 },
 "nbformat": 4,
 "nbformat_minor": 2
}
