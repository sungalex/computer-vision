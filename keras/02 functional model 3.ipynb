{
 "cells": [
  {
   "cell_type": "code",
   "execution_count": 1,
   "metadata": {
    "scrolled": false
   },
   "outputs": [
    {
     "name": "stderr",
     "output_type": "stream",
     "text": [
      "Using TensorFlow backend.\n"
     ]
    },
    {
     "name": "stdout",
     "output_type": "stream",
     "text": [
      "x_train:\n",
      " [[0]\n",
      " [1]]\n",
      "y_train:\n",
      " [[1]\n",
      " [3]]\n",
      "x_test:\n",
      " [[2]\n",
      " [3]]\n",
      "y_test:\n",
      " [[5]\n",
      " [7]]\n",
      "_________________________________________________________________\n",
      "Layer (type)                 Output Shape              Param #   \n",
      "=================================================================\n",
      "x (InputLayer)               (None, 1)                 0         \n",
      "_________________________________________________________________\n",
      "hidden (Dense)               (None, 2)                 4         \n",
      "_________________________________________________________________\n",
      "y (Dense)                    (None, 1)                 3         \n",
      "=================================================================\n",
      "Total params: 7\n",
      "Trainable params: 7\n",
      "Non-trainable params: 0\n",
      "_________________________________________________________________\n",
      "y_predict\n",
      "[[4.9999886]\n",
      " [6.9999804]]\n",
      "y_test\n",
      "[[5]\n",
      " [7]]\n"
     ]
    }
   ],
   "source": [
    "# 1->2->1 네크워브에서 중간층의 출력 확인하기\n",
    "import keras\n",
    "import numpy as np\n",
    "\n",
    "from keras.layers import Dense, Input\n",
    "from keras.models import Model\n",
    "\n",
    "x_train = np.array([[0],[1]])\n",
    "y_train = x_train * 2 + 1\n",
    "print('x_train:\\n', x_train)\n",
    "print('y_train:\\n', y_train)\n",
    "\n",
    "x_test = np.array([[2],[3]])\n",
    "y_test = x_test * 2 + 1\n",
    "print('x_test:\\n', x_test)\n",
    "print('y_test:\\n', y_test)\n",
    "\n",
    "x = Input(shape=(1,), name='x')   # layer 이름 지정하기(option)\n",
    "h_layer = Dense(2, name='hidden')(x)\n",
    "y = Dense(1, name='y')(h_layer)\n",
    "\n",
    "model = Model(inputs=x, outputs=y)\n",
    "model.summary()\n",
    "\n",
    "model.compile('SGD', 'mse')\n",
    "history = model.fit(x_train, y_train, batch_size=2, epochs=1000, verbose=0)\n",
    "\n",
    "y_predict = model.predict(x_test)\n",
    "print('y_predict'); print(y_predict)\n",
    "print('y_test'); print(y_test)"
   ]
  },
  {
   "cell_type": "code",
   "execution_count": null,
   "metadata": {},
   "outputs": [],
   "source": []
  }
 ],
 "metadata": {
  "kernelspec": {
   "display_name": "Python 3",
   "language": "python",
   "name": "python3"
  },
  "language_info": {
   "codemirror_mode": {
    "name": "ipython",
    "version": 3
   },
   "file_extension": ".py",
   "mimetype": "text/x-python",
   "name": "python",
   "nbconvert_exporter": "python",
   "pygments_lexer": "ipython3",
   "version": "3.7.3"
  }
 },
 "nbformat": 4,
 "nbformat_minor": 2
}
