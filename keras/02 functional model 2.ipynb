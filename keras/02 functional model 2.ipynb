{
 "cells": [
  {
   "cell_type": "code",
   "execution_count": 1,
   "metadata": {},
   "outputs": [
    {
     "name": "stderr",
     "output_type": "stream",
     "text": [
      "Using TensorFlow backend.\n"
     ]
    },
    {
     "name": "stdout",
     "output_type": "stream",
     "text": [
      "x_train:\n",
      " [[0 1]\n",
      " [2 3]\n",
      " [4 5]]\n",
      "y_train:\n",
      " [[1]\n",
      " [5]\n",
      " [9]]\n",
      "x_test:\n",
      " [[6 7]\n",
      " [8 9]]\n",
      "y_test:\n",
      " [[13]\n",
      " [17]]\n",
      "_________________________________________________________________\n",
      "Layer (type)                 Output Shape              Param #   \n",
      "=================================================================\n",
      "input_1 (InputLayer)         (None, 2)                 0         \n",
      "_________________________________________________________________\n",
      "dense_1 (Dense)              (None, 3)                 9         \n",
      "_________________________________________________________________\n",
      "dense_2 (Dense)              (None, 2)                 8         \n",
      "_________________________________________________________________\n",
      "dense_3 (Dense)              (None, 1)                 3         \n",
      "=================================================================\n",
      "Total params: 20\n",
      "Trainable params: 20\n",
      "Non-trainable params: 0\n",
      "_________________________________________________________________\n",
      "y_predict\n",
      "[[13.]\n",
      " [17.]]\n",
      "y_test\n",
      "[[13]\n",
      " [17]]\n"
     ]
    }
   ],
   "source": [
    "import keras\n",
    "import numpy as np\n",
    "\n",
    "from keras.layers import Dense, Input\n",
    "from keras.models import Model\n",
    "\n",
    "x_train = np.array([[0,1],[2,3],[4,5]])\n",
    "# y = x0 + x1\n",
    "# y_train = np.sum(x_train, axis=1)\n",
    "y_train = np.array([[x.sum()] for x in x_train])   # 2차원 array 형태\n",
    "print('x_train:\\n', x_train)\n",
    "print('y_train:\\n', y_train)\n",
    "\n",
    "x_test = np.array([[6,7],[8,9]])\n",
    "# y_test = np.sum(x_test, axis=1)\n",
    "y_test = np.array([[x.sum()] for x in x_test])   # 2차원 array 형태\n",
    "print('x_test:\\n', x_test)\n",
    "print('y_test:\\n', y_test)\n",
    "\n",
    "x = Input(shape=(2,))\n",
    "\n",
    "h_layer1 = Dense(3)(x)\n",
    "h_layer2 = Dense(2)(h_layer1)\n",
    "y = Dense(1)(h_layer2)\n",
    "\n",
    "model = Model(inputs=x, outputs=y)\n",
    "model.summary()\n",
    "\n",
    "model.compile('SGD', 'mse')\n",
    "history = model.fit(x_train, y_train, batch_size=2, epochs=1000, verbose=0)\n",
    "\n",
    "y_predict = model.predict(x_test)\n",
    "print('y_predict'); print(y_predict)\n",
    "print('y_test'); print(y_test)"
   ]
  },
  {
   "cell_type": "code",
   "execution_count": null,
   "metadata": {},
   "outputs": [],
   "source": []
  }
 ],
 "metadata": {
  "kernelspec": {
   "display_name": "Python 3",
   "language": "python",
   "name": "python3"
  },
  "language_info": {
   "codemirror_mode": {
    "name": "ipython",
    "version": 3
   },
   "file_extension": ".py",
   "mimetype": "text/x-python",
   "name": "python",
   "nbconvert_exporter": "python",
   "pygments_lexer": "ipython3",
   "version": "3.7.3"
  }
 },
 "nbformat": 4,
 "nbformat_minor": 2
}
